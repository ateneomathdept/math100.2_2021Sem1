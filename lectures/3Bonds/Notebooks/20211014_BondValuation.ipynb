{
 "cells": [
  {
   "cell_type": "markdown",
   "id": "12af816e",
   "metadata": {},
   "source": [
    "# Bond Valuation\n",
    "## Lecture Notes by Juan Carlo F. Mallari (jmallari@ateneo.edu)\n",
    "MATH 100.2: Topics in Financial Mathematics II \\ First Semester, S.Y. 2021-2022 \\ Ateneo de Manila University"
   ]
  },
  {
   "cell_type": "code",
   "execution_count": 4,
   "id": "23ed4b6d",
   "metadata": {
    "hide_input": false
   },
   "outputs": [
    {
     "name": "stdout",
     "output_type": "stream",
     "text": [
      "packages\n"
     ]
    }
   ],
   "source": [
    "import numpy as np\n",
    "import pandas as pd\n",
    "import datetime as dt\n",
    "from dateutil.relativedelta import relativedelta\n",
    "\n",
    "print(\"packages\")"
   ]
  },
  {
   "cell_type": "code",
   "execution_count": 5,
   "id": "3c99a8ae",
   "metadata": {
    "hide_input": false
   },
   "outputs": [
    {
     "name": "stdout",
     "output_type": "stream",
     "text": [
      "tenor function\n"
     ]
    }
   ],
   "source": [
    "def get_tenor(\n",
    "    start_date, end_date\n",
    "    ):\n",
    "    \"\"\"\n",
    "    Calculates the tenor in years from start_date to end_date following the Actual/360 day count convention\n",
    "    \n",
    "    Inputs:\n",
    "    start_date: start date in \"yyyy-mm-dd\" format (usually today)\n",
    "    end_date: end date in \"yyyy-mm-dd\" format (coupon payment/maturity date)\n",
    "    \"\"\"\n",
    "    \n",
    "    day_count = (end_date - start_date).days\n",
    "    tenor = day_count / 360.0\n",
    "    \n",
    "    return tenor\n",
    "\n",
    "print(\"tenor function\")"
   ]
  },
  {
   "cell_type": "code",
   "execution_count": 6,
   "id": "62400870",
   "metadata": {
    "hide_input": false
   },
   "outputs": [
    {
     "name": "stdout",
     "output_type": "stream",
     "text": [
      "price function\n"
     ]
    }
   ],
   "source": [
    "def get_bond_price_using_yield(\n",
    "    start_date, maturity_date, par_value, coupon_rate, coupon_freq, ytm\n",
    "    ):\n",
    "    \"\"\"\n",
    "    Calculates the (clean) price of a (plain vanilla) coupon-bearing bond\n",
    "    \n",
    "    Notes:\n",
    "    1) The Actual/360 day count convention is used.\n",
    "    2) The yield is assumed to be continuously compounded.\n",
    "    \n",
    "    Inputs:\n",
    "    start_date: start date in \"yyyy-mm-dd\" format (usually today)\n",
    "    maturity_date: maturity date in \"yyyy-mm-dd\" format\n",
    "    par_value: par value of the bond\n",
    "    coupon_rate: coupon rate in decimal form\n",
    "    coupon_freq: number of coupon payments every year (1, 2, 4, 12)\n",
    "    ytm: yield to maturity\n",
    "    \"\"\"\n",
    "    coupon = (coupon_rate * par_value) / coupon_freq\n",
    "    \n",
    "    start_date = dt.datetime.strptime(start_date, '%Y-%m-%d')\n",
    "    maturity_date = dt.datetime.strptime(maturity_date, '%Y-%m-%d') \n",
    "    \n",
    "    # Create list of coupon dates\n",
    "    coupon_dates = []\n",
    "    coupon_date = maturity_date\n",
    "    while start_date < coupon_date:\n",
    "        coupon_dates.append(coupon_date)\n",
    "        coupon_date -= relativedelta(months = 12 / coupon_freq)\n",
    "    \n",
    "    coupon_dates = coupon_dates[::-1] # rearrange dates\n",
    "    \n",
    "    # Create list of time values\n",
    "    times = [get_tenor(start_date, t) for t in coupon_dates]\n",
    "    \n",
    "    # Create list of coupons\n",
    "    coupon = coupon_rate * par_value\n",
    "    coupons = [coupon] * (len(coupon_dates) - 1)\n",
    "    coupons += [coupon + par_value]\n",
    "    \n",
    "    # Create list of discount factors\n",
    "    discount_factors = [np.exp(-ytm * t) for t in times]\n",
    "    \n",
    "    df = pd.DataFrame({'coupon_dates' : coupon_dates})\n",
    "    df.loc[:, \"t\"] = times\n",
    "    df.loc[:, \"CF\"] = coupons\n",
    "    df.loc[:, \"DF\"] = discount_factors\n",
    "    df.loc[:, \"PV\"] = df[\"CF\"] * df[\"DF\"]\n",
    "    \n",
    "    price = round(df[\"PV\"].sum(), 2)\n",
    "    \n",
    "    return df, price\n",
    "\n",
    "print(\"price function\")"
   ]
  },
  {
   "cell_type": "markdown",
   "id": "4eaafd10",
   "metadata": {
    "hide_input": true
   },
   "source": [
    "## Example\n",
    "Suppose today is October 12, 2021. A 10-year corporate bond has $1000 par value, 10\\% coupon bond that pays interest annually, with maturity date on December 15, 2025. Suppose that the prevailing market yield for the bond is 11\\% compounded continuously. Assume an actual/360 day-count convention.\n",
    "\n",
    "What is the current price of the bond?"
   ]
  },
  {
   "cell_type": "code",
   "execution_count": 7,
   "id": "46896f24",
   "metadata": {
    "hide_input": false
   },
   "outputs": [
    {
     "name": "stdout",
     "output_type": "stream",
     "text": [
      "price calculation\n"
     ]
    }
   ],
   "source": [
    "df, price = get_bond_price_using_yield(\n",
    "    start_date = \"2021-10-12\", \n",
    "    maturity_date = \"2025-12-15\", \n",
    "    par_value = 1000, \n",
    "    coupon_rate = 0.10, \n",
    "    coupon_freq = 1,\n",
    "    ytm = 0.11\n",
    ")\n",
    "\n",
    "print(\"price calculation\")"
   ]
  },
  {
   "cell_type": "code",
   "execution_count": 104,
   "id": "d3cfdbb7",
   "metadata": {
    "hide_input": false
   },
   "outputs": [
    {
     "data": {
      "text/html": [
       "<div>\n",
       "<style scoped>\n",
       "    .dataframe tbody tr th:only-of-type {\n",
       "        vertical-align: middle;\n",
       "    }\n",
       "\n",
       "    .dataframe tbody tr th {\n",
       "        vertical-align: top;\n",
       "    }\n",
       "\n",
       "    .dataframe thead th {\n",
       "        text-align: right;\n",
       "    }\n",
       "</style>\n",
       "<table border=\"1\" class=\"dataframe\">\n",
       "  <thead>\n",
       "    <tr style=\"text-align: right;\">\n",
       "      <th></th>\n",
       "      <th>coupon_dates</th>\n",
       "      <th>t</th>\n",
       "      <th>CF</th>\n",
       "      <th>DF</th>\n",
       "      <th>PV</th>\n",
       "    </tr>\n",
       "  </thead>\n",
       "  <tbody>\n",
       "    <tr>\n",
       "      <th>0</th>\n",
       "      <td>2021-12-15</td>\n",
       "      <td>0.177778</td>\n",
       "      <td>100.0</td>\n",
       "      <td>0.980634</td>\n",
       "      <td>98.063441</td>\n",
       "    </tr>\n",
       "    <tr>\n",
       "      <th>1</th>\n",
       "      <td>2022-12-15</td>\n",
       "      <td>1.191667</td>\n",
       "      <td>100.0</td>\n",
       "      <td>0.877145</td>\n",
       "      <td>87.714468</td>\n",
       "    </tr>\n",
       "    <tr>\n",
       "      <th>2</th>\n",
       "      <td>2023-12-15</td>\n",
       "      <td>2.205556</td>\n",
       "      <td>100.0</td>\n",
       "      <td>0.784577</td>\n",
       "      <td>78.457657</td>\n",
       "    </tr>\n",
       "    <tr>\n",
       "      <th>3</th>\n",
       "      <td>2024-12-15</td>\n",
       "      <td>3.222222</td>\n",
       "      <td>100.0</td>\n",
       "      <td>0.701563</td>\n",
       "      <td>70.156309</td>\n",
       "    </tr>\n",
       "    <tr>\n",
       "      <th>4</th>\n",
       "      <td>2025-12-15</td>\n",
       "      <td>4.236111</td>\n",
       "      <td>1100.0</td>\n",
       "      <td>0.627525</td>\n",
       "      <td>690.277187</td>\n",
       "    </tr>\n",
       "  </tbody>\n",
       "</table>\n",
       "</div>"
      ],
      "text/plain": [
       "  coupon_dates         t      CF        DF          PV\n",
       "0   2021-12-15  0.177778   100.0  0.980634   98.063441\n",
       "1   2022-12-15  1.191667   100.0  0.877145   87.714468\n",
       "2   2023-12-15  2.205556   100.0  0.784577   78.457657\n",
       "3   2024-12-15  3.222222   100.0  0.701563   70.156309\n",
       "4   2025-12-15  4.236111  1100.0  0.627525  690.277187"
      ]
     },
     "execution_count": 104,
     "metadata": {},
     "output_type": "execute_result"
    }
   ],
   "source": [
    "df"
   ]
  },
  {
   "cell_type": "code",
   "execution_count": 105,
   "id": "5bf16c84",
   "metadata": {
    "hide_input": false
   },
   "outputs": [
    {
     "data": {
      "text/plain": [
       "1024.67"
      ]
     },
     "execution_count": 105,
     "metadata": {},
     "output_type": "execute_result"
    }
   ],
   "source": [
    "price"
   ]
  },
  {
   "cell_type": "code",
   "execution_count": 17,
   "id": "b3dffb4e",
   "metadata": {
    "hide_input": false
   },
   "outputs": [
    {
     "name": "stdout",
     "output_type": "stream",
     "text": [
      "0.10265333333333333\n",
      "0.1025\n"
     ]
    }
   ],
   "source": [
    "x = [1,2]\n",
    "y = [0.1025, 0.1033]\n",
    "\n",
    "# Rate for t_2\n",
    "t = df.iloc[1, 1]\n",
    "\n",
    "print(np.interp(t, x, y))\n",
    "\n",
    "# Rate for t_1\n",
    "t = df.iloc[0, 1]\n",
    "\n",
    "print(np.interp(t, x, y))"
   ]
  },
  {
   "cell_type": "code",
   "execution_count": 13,
   "id": "c55be84c",
   "metadata": {
    "hide_input": false
   },
   "outputs": [
    {
     "name": "stdout",
     "output_type": "stream",
     "text": [
      "linear interpolation function\n"
     ]
    }
   ],
   "source": [
    "def linear_interp(t,x,y):\n",
    "    '''\n",
    "    Linearly interpolates the zero rate for tenor t \n",
    "    using the equation of line determined by the two available points \n",
    "    (x_1,y_1) and (x_2,y_2) whose tenors x_1 and x_2 are nearest to t\n",
    "    \n",
    "    -------\n",
    "    Inputs:\n",
    "    t = tenor of the unknown zero rate \n",
    "    x = list [x_1,x_2]\n",
    "    y = list [y_1,y_2]\n",
    "    '''\n",
    "    m = (y[1]-y[0])/(x[1]-x[0])\n",
    "    \n",
    "    y = y[0] + m*(t-x[0])\n",
    "    \n",
    "    return y\n",
    "\n",
    "print(\"linear interpolation function\")"
   ]
  },
  {
   "cell_type": "code",
   "execution_count": 14,
   "id": "d50ced13",
   "metadata": {
    "hide_input": false
   },
   "outputs": [
    {
     "name": "stdout",
     "output_type": "stream",
     "text": [
      "0.10265333333333333\n",
      "0.10184222222222221\n"
     ]
    }
   ],
   "source": [
    "x = [1,2]\n",
    "y = [0.1025, 0.1033]\n",
    "\n",
    "# Rate for t_2\n",
    "t = df.iloc[1, 1]\n",
    "\n",
    "print(linear_interp(t, x, y))\n",
    "\n",
    "# Rate for t_1\n",
    "t = df.iloc[0, 1]\n",
    "\n",
    "print(linear_interp(t, x, y))"
   ]
  }
 ],
 "metadata": {
  "kernelspec": {
   "display_name": "Python 3",
   "language": "python",
   "name": "python3"
  },
  "language_info": {
   "codemirror_mode": {
    "name": "ipython",
    "version": 3
   },
   "file_extension": ".py",
   "mimetype": "text/x-python",
   "name": "python",
   "nbconvert_exporter": "python",
   "pygments_lexer": "ipython3",
   "version": "3.9.5"
  }
 },
 "nbformat": 4,
 "nbformat_minor": 5
}
