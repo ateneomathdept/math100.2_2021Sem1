{
 "cells": [
  {
   "cell_type": "markdown",
   "metadata": {},
   "source": [
    "# Value-at-Risk for Stocks: Historical Simulation\n",
    "\n",
    "### Lecture Notes by Jakov Ivan S. Dumbrique (jdumbrique@ateneo.edu)\n",
    "\n",
    "MATH 100.2: Topics in Financial Mathematics II \\\n",
    "First Semester, S.Y. 2021-2022 \\\n",
    "Ateneo de Manila University"
   ]
  },
  {
   "cell_type": "code",
   "execution_count": 1,
   "metadata": {},
   "outputs": [],
   "source": [
    "import numpy as np # Numerical Computing\n",
    "import pandas as pd # Data wrangling"
   ]
  },
  {
   "cell_type": "markdown",
   "metadata": {},
   "source": [
    "## Introduction to Historical Simulation\n",
    "\n",
    "1. The primary basis of the Delta-Normal approach in the computation of the VaR is the assumption that asset price returns (or portfolio returns) are normally distributed.\n",
    "2. Historical data can also be used to estimate VaR for stock portfolios without assuming a particular parametric distribution for the asset return series. This particular procedure is known as **historical simulation**.\n",
    "\n",
    "Consider a financial institution with a position of $N$ shares on a stock $E$ with price $S_{0}$ today. Let $S_1$ be the price per share of $E_1$ tomorrow.\n",
    "\n",
    "Let $R_1 = \\ln(S_1/S_0)$ be the continuously compounded return on the asset observed tomorrow.\n",
    "For sufficiently small $R_1$, we assume that $$\\Delta P = P_1-P_0 = N(S_1-S_0) \\approx N S_0 R_1.$$\n",
    "\n",
    "In historical simulation, it is also assumed that $R_1$ is a random variable whose values consist of the one-day asset returns observed historically. However, unlike in Delta-Normal Approach, we don't assume $R_1$ to be normally distributed.\n",
    "\n",
    "###  Step 1: Generate historical one-day returns $\\{R_{1,j}\\}$\n",
    "Consider the time series $\\{S_{-t}\\}$, $t=0,1,2,\\dots,M$, where $S_{-t}$ indicates the stock price $t$ trading days ago and $M+1$ is the length of the time series.\n",
    "\n",
    "Define\n",
    "\\begin{equation}\n",
    "R_{1,j} = \\ln\\left(\\frac{S_{-j}}{S_{-(j+1)}}\\right), j=0,1,\\dots,M-1\n",
    "\\end{equation}\n",
    "and so the series $\\{R_{1,j}\\}$ contains all possible values of the random variable $R_1$, with $R_{1,j}$ representing the $j$th scenario for $R_1$."
   ]
  },
  {
   "cell_type": "markdown",
   "metadata": {},
   "source": [
    "<h3 style='color:green'> Example on Single-Asset Portfolio</h3> \n",
    "Today is February 23, 2018. You are a portfolio risk manager who is assigned to analyze the market risk of a portfolio of 700 PLDT (TEL) shares. Determine the portfolio's one-day 99% VaR using historical simulation approach.\n",
    " \n"
   ]
  },
  {
   "cell_type": "code",
   "execution_count": 2,
   "metadata": {},
   "outputs": [
    {
     "data": {
      "text/html": [
       "<div>\n",
       "<style scoped>\n",
       "    .dataframe tbody tr th:only-of-type {\n",
       "        vertical-align: middle;\n",
       "    }\n",
       "\n",
       "    .dataframe tbody tr th {\n",
       "        vertical-align: top;\n",
       "    }\n",
       "\n",
       "    .dataframe thead th {\n",
       "        text-align: right;\n",
       "    }\n",
       "</style>\n",
       "<table border=\"1\" class=\"dataframe\">\n",
       "  <thead>\n",
       "    <tr style=\"text-align: right;\">\n",
       "      <th></th>\n",
       "      <th>dt</th>\n",
       "      <th>close</th>\n",
       "    </tr>\n",
       "  </thead>\n",
       "  <tbody>\n",
       "    <tr>\n",
       "      <th>0</th>\n",
       "      <td>2/23/18</td>\n",
       "      <td>1488.74</td>\n",
       "    </tr>\n",
       "    <tr>\n",
       "      <th>1</th>\n",
       "      <td>2/22/18</td>\n",
       "      <td>1510.86</td>\n",
       "    </tr>\n",
       "    <tr>\n",
       "      <th>2</th>\n",
       "      <td>2/21/18</td>\n",
       "      <td>1513.72</td>\n",
       "    </tr>\n",
       "    <tr>\n",
       "      <th>3</th>\n",
       "      <td>2/20/18</td>\n",
       "      <td>1536.65</td>\n",
       "    </tr>\n",
       "    <tr>\n",
       "      <th>4</th>\n",
       "      <td>2/16/18</td>\n",
       "      <td>1476.37</td>\n",
       "    </tr>\n",
       "    <tr>\n",
       "      <th>...</th>\n",
       "      <td>...</td>\n",
       "      <td>...</td>\n",
       "    </tr>\n",
       "    <tr>\n",
       "      <th>243</th>\n",
       "      <td>3/2/17</td>\n",
       "      <td>1430.29</td>\n",
       "    </tr>\n",
       "    <tr>\n",
       "      <th>244</th>\n",
       "      <td>3/1/17</td>\n",
       "      <td>1408.94</td>\n",
       "    </tr>\n",
       "    <tr>\n",
       "      <th>245</th>\n",
       "      <td>2/28/17</td>\n",
       "      <td>1394.35</td>\n",
       "    </tr>\n",
       "    <tr>\n",
       "      <th>246</th>\n",
       "      <td>2/27/17</td>\n",
       "      <td>1374.93</td>\n",
       "    </tr>\n",
       "    <tr>\n",
       "      <th>247</th>\n",
       "      <td>2/24/17</td>\n",
       "      <td>1367.68</td>\n",
       "    </tr>\n",
       "  </tbody>\n",
       "</table>\n",
       "<p>248 rows × 2 columns</p>\n",
       "</div>"
      ],
      "text/plain": [
       "          dt    close\n",
       "0    2/23/18  1488.74\n",
       "1    2/22/18  1510.86\n",
       "2    2/21/18  1513.72\n",
       "3    2/20/18  1536.65\n",
       "4    2/16/18  1476.37\n",
       "..       ...      ...\n",
       "243   3/2/17  1430.29\n",
       "244   3/1/17  1408.94\n",
       "245  2/28/17  1394.35\n",
       "246  2/27/17  1374.93\n",
       "247  2/24/17  1367.68\n",
       "\n",
       "[248 rows x 2 columns]"
      ]
     },
     "execution_count": 2,
     "metadata": {},
     "output_type": "execute_result"
    }
   ],
   "source": [
    "TEL_df = pd.read_csv(\"https://raw.githubusercontent.com/ateneomathdept/math100.2_2021Sem1/main/data/lectures/TEL_2018.csv\")\n",
    "TEL_df"
   ]
  },
  {
   "cell_type": "code",
   "execution_count": 3,
   "metadata": {},
   "outputs": [],
   "source": [
    "def get_return(df, d):\n",
    "    \"\"\"\n",
    "    df is the original df\n",
    "    \n",
    "    appends returns series to df\n",
    "    \"\"\"\n",
    "    df[\"previous\"] = df[\"close\"].shift(-d)\n",
    "    df[\"return\"] = np.log(df[\"close\"]/df[\"previous\"])\n",
    "    return df "
   ]
  },
  {
   "cell_type": "code",
   "execution_count": 4,
   "metadata": {},
   "outputs": [
    {
     "data": {
      "text/html": [
       "<div>\n",
       "<style scoped>\n",
       "    .dataframe tbody tr th:only-of-type {\n",
       "        vertical-align: middle;\n",
       "    }\n",
       "\n",
       "    .dataframe tbody tr th {\n",
       "        vertical-align: top;\n",
       "    }\n",
       "\n",
       "    .dataframe thead th {\n",
       "        text-align: right;\n",
       "    }\n",
       "</style>\n",
       "<table border=\"1\" class=\"dataframe\">\n",
       "  <thead>\n",
       "    <tr style=\"text-align: right;\">\n",
       "      <th></th>\n",
       "      <th>dt</th>\n",
       "      <th>close</th>\n",
       "      <th>previous</th>\n",
       "      <th>return</th>\n",
       "    </tr>\n",
       "  </thead>\n",
       "  <tbody>\n",
       "    <tr>\n",
       "      <th>0</th>\n",
       "      <td>2/23/18</td>\n",
       "      <td>1488.74</td>\n",
       "      <td>1510.86</td>\n",
       "      <td>-0.014749</td>\n",
       "    </tr>\n",
       "    <tr>\n",
       "      <th>1</th>\n",
       "      <td>2/22/18</td>\n",
       "      <td>1510.86</td>\n",
       "      <td>1513.72</td>\n",
       "      <td>-0.001891</td>\n",
       "    </tr>\n",
       "    <tr>\n",
       "      <th>2</th>\n",
       "      <td>2/21/18</td>\n",
       "      <td>1513.72</td>\n",
       "      <td>1536.65</td>\n",
       "      <td>-0.015035</td>\n",
       "    </tr>\n",
       "    <tr>\n",
       "      <th>3</th>\n",
       "      <td>2/20/18</td>\n",
       "      <td>1536.65</td>\n",
       "      <td>1476.37</td>\n",
       "      <td>0.040018</td>\n",
       "    </tr>\n",
       "    <tr>\n",
       "      <th>4</th>\n",
       "      <td>2/16/18</td>\n",
       "      <td>1476.37</td>\n",
       "      <td>1475.71</td>\n",
       "      <td>0.000447</td>\n",
       "    </tr>\n",
       "    <tr>\n",
       "      <th>...</th>\n",
       "      <td>...</td>\n",
       "      <td>...</td>\n",
       "      <td>...</td>\n",
       "      <td>...</td>\n",
       "    </tr>\n",
       "    <tr>\n",
       "      <th>243</th>\n",
       "      <td>3/2/17</td>\n",
       "      <td>1430.29</td>\n",
       "      <td>1408.94</td>\n",
       "      <td>0.015040</td>\n",
       "    </tr>\n",
       "    <tr>\n",
       "      <th>244</th>\n",
       "      <td>3/1/17</td>\n",
       "      <td>1408.94</td>\n",
       "      <td>1394.35</td>\n",
       "      <td>0.010409</td>\n",
       "    </tr>\n",
       "    <tr>\n",
       "      <th>245</th>\n",
       "      <td>2/28/17</td>\n",
       "      <td>1394.35</td>\n",
       "      <td>1374.93</td>\n",
       "      <td>0.014026</td>\n",
       "    </tr>\n",
       "    <tr>\n",
       "      <th>246</th>\n",
       "      <td>2/27/17</td>\n",
       "      <td>1374.93</td>\n",
       "      <td>1367.68</td>\n",
       "      <td>0.005287</td>\n",
       "    </tr>\n",
       "    <tr>\n",
       "      <th>247</th>\n",
       "      <td>2/24/17</td>\n",
       "      <td>1367.68</td>\n",
       "      <td>NaN</td>\n",
       "      <td>NaN</td>\n",
       "    </tr>\n",
       "  </tbody>\n",
       "</table>\n",
       "<p>248 rows × 4 columns</p>\n",
       "</div>"
      ],
      "text/plain": [
       "          dt    close  previous    return\n",
       "0    2/23/18  1488.74   1510.86 -0.014749\n",
       "1    2/22/18  1510.86   1513.72 -0.001891\n",
       "2    2/21/18  1513.72   1536.65 -0.015035\n",
       "3    2/20/18  1536.65   1476.37  0.040018\n",
       "4    2/16/18  1476.37   1475.71  0.000447\n",
       "..       ...      ...       ...       ...\n",
       "243   3/2/17  1430.29   1408.94  0.015040\n",
       "244   3/1/17  1408.94   1394.35  0.010409\n",
       "245  2/28/17  1394.35   1374.93  0.014026\n",
       "246  2/27/17  1374.93   1367.68  0.005287\n",
       "247  2/24/17  1367.68       NaN       NaN\n",
       "\n",
       "[248 rows x 4 columns]"
      ]
     },
     "execution_count": 4,
     "metadata": {},
     "output_type": "execute_result"
    }
   ],
   "source": [
    "TEL_df = get_return(TEL_df, d=1)\n",
    "TEL_df"
   ]
  },
  {
   "cell_type": "markdown",
   "metadata": {},
   "source": [
    "### Step 2: Get historical changes in portfolio values $\\{\\Delta P_j\\}$\n",
    "In scenario $j$, the stock price tomorrow is approximated as\n",
    "\\begin{equation}\n",
    "S_{1,j} = S_0 e^{R_{1,j}}.\n",
    "\\end{equation}\n",
    "\n",
    "Consequently, the change in portfolio value under scenario $j$ is given by the approximation\n",
    "\\begin{equation}\n",
    "\\Delta P_j = N (S_{1,j}-S_0) \\approx NS_0 R_{1,j}.\n",
    "\\end{equation}\n",
    "\n",
    "Like the random variable $R_1$, $\\Delta P$ can be represented as a random variable with $M$ possible scenarios denoted by $\\{\\Delta P_j\\}$.\n"
   ]
  },
  {
   "cell_type": "code",
   "execution_count": 5,
   "metadata": {},
   "outputs": [],
   "source": [
    "def get_change_in_value_df(df, N):\n",
    "    \"\"\"\n",
    "    df is the output of get_returns_df \n",
    "    \n",
    "    appends change in portfolio value series to df\n",
    "    \"\"\"\n",
    "    S0 = df.loc[0, \"close\"]\n",
    "    df[\"change_in_value\"] = N * S0 * df[\"return\"]\n",
    "    return df"
   ]
  },
  {
   "cell_type": "code",
   "execution_count": 6,
   "metadata": {},
   "outputs": [
    {
     "data": {
      "text/html": [
       "<div>\n",
       "<style scoped>\n",
       "    .dataframe tbody tr th:only-of-type {\n",
       "        vertical-align: middle;\n",
       "    }\n",
       "\n",
       "    .dataframe tbody tr th {\n",
       "        vertical-align: top;\n",
       "    }\n",
       "\n",
       "    .dataframe thead th {\n",
       "        text-align: right;\n",
       "    }\n",
       "</style>\n",
       "<table border=\"1\" class=\"dataframe\">\n",
       "  <thead>\n",
       "    <tr style=\"text-align: right;\">\n",
       "      <th></th>\n",
       "      <th>dt</th>\n",
       "      <th>close</th>\n",
       "      <th>previous</th>\n",
       "      <th>return</th>\n",
       "      <th>change_in_value</th>\n",
       "    </tr>\n",
       "  </thead>\n",
       "  <tbody>\n",
       "    <tr>\n",
       "      <th>0</th>\n",
       "      <td>2/23/18</td>\n",
       "      <td>1488.74</td>\n",
       "      <td>1510.86</td>\n",
       "      <td>-0.014749</td>\n",
       "      <td>-15370.094698</td>\n",
       "    </tr>\n",
       "    <tr>\n",
       "      <th>1</th>\n",
       "      <td>2/22/18</td>\n",
       "      <td>1510.86</td>\n",
       "      <td>1513.72</td>\n",
       "      <td>-0.001891</td>\n",
       "      <td>-1970.824622</td>\n",
       "    </tr>\n",
       "    <tr>\n",
       "      <th>2</th>\n",
       "      <td>2/21/18</td>\n",
       "      <td>1513.72</td>\n",
       "      <td>1536.65</td>\n",
       "      <td>-0.015035</td>\n",
       "      <td>-15667.749059</td>\n",
       "    </tr>\n",
       "    <tr>\n",
       "      <th>3</th>\n",
       "      <td>2/20/18</td>\n",
       "      <td>1536.65</td>\n",
       "      <td>1476.37</td>\n",
       "      <td>0.040018</td>\n",
       "      <td>41703.842890</td>\n",
       "    </tr>\n",
       "    <tr>\n",
       "      <th>4</th>\n",
       "      <td>2/16/18</td>\n",
       "      <td>1476.37</td>\n",
       "      <td>1475.71</td>\n",
       "      <td>0.000447</td>\n",
       "      <td>465.975103</td>\n",
       "    </tr>\n",
       "    <tr>\n",
       "      <th>...</th>\n",
       "      <td>...</td>\n",
       "      <td>...</td>\n",
       "      <td>...</td>\n",
       "      <td>...</td>\n",
       "      <td>...</td>\n",
       "    </tr>\n",
       "    <tr>\n",
       "      <th>243</th>\n",
       "      <td>3/2/17</td>\n",
       "      <td>1430.29</td>\n",
       "      <td>1408.94</td>\n",
       "      <td>0.015040</td>\n",
       "      <td>15673.009003</td>\n",
       "    </tr>\n",
       "    <tr>\n",
       "      <th>244</th>\n",
       "      <td>3/1/17</td>\n",
       "      <td>1408.94</td>\n",
       "      <td>1394.35</td>\n",
       "      <td>0.010409</td>\n",
       "      <td>10847.710303</td>\n",
       "    </tr>\n",
       "    <tr>\n",
       "      <th>245</th>\n",
       "      <td>2/28/17</td>\n",
       "      <td>1394.35</td>\n",
       "      <td>1374.93</td>\n",
       "      <td>0.014026</td>\n",
       "      <td>14616.263663</td>\n",
       "    </tr>\n",
       "    <tr>\n",
       "      <th>246</th>\n",
       "      <td>2/27/17</td>\n",
       "      <td>1374.93</td>\n",
       "      <td>1367.68</td>\n",
       "      <td>0.005287</td>\n",
       "      <td>5509.622658</td>\n",
       "    </tr>\n",
       "    <tr>\n",
       "      <th>247</th>\n",
       "      <td>2/24/17</td>\n",
       "      <td>1367.68</td>\n",
       "      <td>NaN</td>\n",
       "      <td>NaN</td>\n",
       "      <td>NaN</td>\n",
       "    </tr>\n",
       "  </tbody>\n",
       "</table>\n",
       "<p>248 rows × 5 columns</p>\n",
       "</div>"
      ],
      "text/plain": [
       "          dt    close  previous    return  change_in_value\n",
       "0    2/23/18  1488.74   1510.86 -0.014749    -15370.094698\n",
       "1    2/22/18  1510.86   1513.72 -0.001891     -1970.824622\n",
       "2    2/21/18  1513.72   1536.65 -0.015035    -15667.749059\n",
       "3    2/20/18  1536.65   1476.37  0.040018     41703.842890\n",
       "4    2/16/18  1476.37   1475.71  0.000447       465.975103\n",
       "..       ...      ...       ...       ...              ...\n",
       "243   3/2/17  1430.29   1408.94  0.015040     15673.009003\n",
       "244   3/1/17  1408.94   1394.35  0.010409     10847.710303\n",
       "245  2/28/17  1394.35   1374.93  0.014026     14616.263663\n",
       "246  2/27/17  1374.93   1367.68  0.005287      5509.622658\n",
       "247  2/24/17  1367.68       NaN       NaN              NaN\n",
       "\n",
       "[248 rows x 5 columns]"
      ]
     },
     "execution_count": 6,
     "metadata": {},
     "output_type": "execute_result"
    }
   ],
   "source": [
    "TEL_df = get_change_in_value_df(TEL_df, N=700)\n",
    "TEL_df"
   ]
  },
  {
   "cell_type": "markdown",
   "metadata": {},
   "source": [
    "### Step 3: Get the (1-alpha)th percentile of the ordered array of historical changes in portfolio values\n",
    " \n",
    "The one-day 99\\% VaR of the portfolio thus corresponds to the scenario $j^*$, given by $\\Delta P_{j^*}$, in the 1st percentile of the scenario space $\\{\\Delta P_j\\}$. \n",
    "\n",
    "$\\Delta P_{j^*}$ represents the worst possible movement in portfolio value with probability 99\\%. \n",
    "\n",
    "If the $\\Delta P_j$s are arranged in ascending order, the one-day 99\\% VaR for the portfolio is the $\\lfloor 0.01M \\rfloor$th smallest value in the array.\n"
   ]
  },
  {
   "cell_type": "code",
   "execution_count": 7,
   "metadata": {
    "scrolled": true
   },
   "outputs": [
    {
     "data": {
      "text/plain": [
       "247"
      ]
     },
     "execution_count": 7,
     "metadata": {},
     "output_type": "execute_result"
    }
   ],
   "source": [
    "M = len(TEL_df)-1\n",
    "M"
   ]
  },
  {
   "cell_type": "code",
   "execution_count": 8,
   "metadata": {},
   "outputs": [
    {
     "data": {
      "text/plain": [
       "2.47"
      ]
     },
     "execution_count": 8,
     "metadata": {},
     "output_type": "execute_result"
    }
   ],
   "source": [
    "0.01*M"
   ]
  },
  {
   "cell_type": "code",
   "execution_count": 9,
   "metadata": {},
   "outputs": [
    {
     "data": {
      "text/plain": [
       "2"
      ]
     },
     "execution_count": 9,
     "metadata": {},
     "output_type": "execute_result"
    }
   ],
   "source": [
    "k = int(np.floor(0.01*M))\n",
    "k"
   ]
  },
  {
   "cell_type": "code",
   "execution_count": 10,
   "metadata": {},
   "outputs": [
    {
     "data": {
      "text/plain": [
       "0     -15370.094698\n",
       "1      -1970.824622\n",
       "2     -15667.749059\n",
       "3      41703.842890\n",
       "4        465.975103\n",
       "           ...     \n",
       "243    15673.009003\n",
       "244    10847.710303\n",
       "245    14616.263663\n",
       "246     5509.622658\n",
       "247             NaN\n",
       "Name: change_in_value, Length: 248, dtype: float64"
      ]
     },
     "execution_count": 10,
     "metadata": {},
     "output_type": "execute_result"
    }
   ],
   "source": [
    "TEL_df[\"change_in_value\"]"
   ]
  },
  {
   "cell_type": "code",
   "execution_count": 11,
   "metadata": {},
   "outputs": [
    {
     "data": {
      "text/plain": [
       "60730.66451735293"
      ]
     },
     "execution_count": 11,
     "metadata": {},
     "output_type": "execute_result"
    }
   ],
   "source": [
    "var = abs(TEL_df[\"change_in_value\"].sort_values(ignore_index=True)[k-1])\n",
    "var"
   ]
  },
  {
   "cell_type": "code",
   "execution_count": 12,
   "metadata": {},
   "outputs": [],
   "source": [
    "def get_kth_percentile_discrete(df, d, alpha):\n",
    "    \"\"\"\n",
    "    this returns the (1-alpha)th percentile of the ordered array of historical changes in portfolio values\n",
    "    \"\"\"\n",
    "    M = len(df)-d\n",
    "    k = int(np.floor((1-alpha)*M))\n",
    "    var = abs(df[\"change_in_value\"].sort_values(ignore_index=True)[k-1])\n",
    "    \n",
    "    return var"
   ]
  },
  {
   "cell_type": "code",
   "execution_count": 13,
   "metadata": {},
   "outputs": [
    {
     "data": {
      "text/plain": [
       "60730.66451735293"
      ]
     },
     "execution_count": 13,
     "metadata": {},
     "output_type": "execute_result"
    }
   ],
   "source": [
    "get_kth_percentile_discrete(TEL_df, d=1, alpha=0.99)"
   ]
  },
  {
   "cell_type": "code",
   "execution_count": 14,
   "metadata": {},
   "outputs": [],
   "source": [
    "def d_day_alpha_percent_VaR_single_stock_historical(\n",
    "    df, N, d, alpha\n",
    "):\n",
    "    \"\"\"Returns the d-day 100(alpha)% VaR of a single stock using Historical Simulation Approach.\n",
    "    \n",
    "    Parameters\n",
    "    ----------\n",
    "    df : pandas.DataFrame\n",
    "        has two columns: (1) dt [str] and (2) closing price [float]\n",
    "        assumes the dates are arranged from newest to oldest, and the date today is the date on the first row  \n",
    "    N : int\n",
    "        number of shares for the sole stock\n",
    "    d : int\n",
    "        the value to be used in calculating the d-day VaR (e.g. 1-day, 5-day)\n",
    "    alpha : float\n",
    "        the value to be used in calculting the 100(alpha)% VaR (e.g. 0.99, 0.95)\n",
    "    \n",
    "    Returns\n",
    "    -------\n",
    "    float (2 decimal places)\n",
    "        d-day 100(alpha)% VaR of a single stock using Historical Simulation Approach\n",
    "    \"\"\"\n",
    "    \n",
    "    # step 1: generate your historical returns\n",
    "    df = get_return(df, d)\n",
    "    # Step 2: get your historical changes in portfolio values\n",
    "    df = get_change_in_value_df(df, N)\n",
    "    # Step 3: get the (1-p/100)th percentile of the ordered array of historical changes in portfolio values\n",
    "    var = get_kth_percentile_discrete(df, d, alpha)\n",
    "    \n",
    "    return round(var, 2)"
   ]
  },
  {
   "cell_type": "code",
   "execution_count": 15,
   "metadata": {
    "scrolled": true
   },
   "outputs": [
    {
     "data": {
      "text/html": [
       "<div>\n",
       "<style scoped>\n",
       "    .dataframe tbody tr th:only-of-type {\n",
       "        vertical-align: middle;\n",
       "    }\n",
       "\n",
       "    .dataframe tbody tr th {\n",
       "        vertical-align: top;\n",
       "    }\n",
       "\n",
       "    .dataframe thead th {\n",
       "        text-align: right;\n",
       "    }\n",
       "</style>\n",
       "<table border=\"1\" class=\"dataframe\">\n",
       "  <thead>\n",
       "    <tr style=\"text-align: right;\">\n",
       "      <th></th>\n",
       "      <th>dt</th>\n",
       "      <th>close</th>\n",
       "    </tr>\n",
       "  </thead>\n",
       "  <tbody>\n",
       "    <tr>\n",
       "      <th>0</th>\n",
       "      <td>2/23/18</td>\n",
       "      <td>1488.74</td>\n",
       "    </tr>\n",
       "    <tr>\n",
       "      <th>1</th>\n",
       "      <td>2/22/18</td>\n",
       "      <td>1510.86</td>\n",
       "    </tr>\n",
       "    <tr>\n",
       "      <th>2</th>\n",
       "      <td>2/21/18</td>\n",
       "      <td>1513.72</td>\n",
       "    </tr>\n",
       "    <tr>\n",
       "      <th>3</th>\n",
       "      <td>2/20/18</td>\n",
       "      <td>1536.65</td>\n",
       "    </tr>\n",
       "    <tr>\n",
       "      <th>4</th>\n",
       "      <td>2/16/18</td>\n",
       "      <td>1476.37</td>\n",
       "    </tr>\n",
       "    <tr>\n",
       "      <th>...</th>\n",
       "      <td>...</td>\n",
       "      <td>...</td>\n",
       "    </tr>\n",
       "    <tr>\n",
       "      <th>243</th>\n",
       "      <td>3/2/17</td>\n",
       "      <td>1430.29</td>\n",
       "    </tr>\n",
       "    <tr>\n",
       "      <th>244</th>\n",
       "      <td>3/1/17</td>\n",
       "      <td>1408.94</td>\n",
       "    </tr>\n",
       "    <tr>\n",
       "      <th>245</th>\n",
       "      <td>2/28/17</td>\n",
       "      <td>1394.35</td>\n",
       "    </tr>\n",
       "    <tr>\n",
       "      <th>246</th>\n",
       "      <td>2/27/17</td>\n",
       "      <td>1374.93</td>\n",
       "    </tr>\n",
       "    <tr>\n",
       "      <th>247</th>\n",
       "      <td>2/24/17</td>\n",
       "      <td>1367.68</td>\n",
       "    </tr>\n",
       "  </tbody>\n",
       "</table>\n",
       "<p>248 rows × 2 columns</p>\n",
       "</div>"
      ],
      "text/plain": [
       "          dt    close\n",
       "0    2/23/18  1488.74\n",
       "1    2/22/18  1510.86\n",
       "2    2/21/18  1513.72\n",
       "3    2/20/18  1536.65\n",
       "4    2/16/18  1476.37\n",
       "..       ...      ...\n",
       "243   3/2/17  1430.29\n",
       "244   3/1/17  1408.94\n",
       "245  2/28/17  1394.35\n",
       "246  2/27/17  1374.93\n",
       "247  2/24/17  1367.68\n",
       "\n",
       "[248 rows x 2 columns]"
      ]
     },
     "execution_count": 15,
     "metadata": {},
     "output_type": "execute_result"
    }
   ],
   "source": [
    "TEL_df = pd.read_csv(\"https://raw.githubusercontent.com/ateneomathdept/math100.2_2021Sem1/main/data/lectures/TEL_2018.csv\")\n",
    "TEL_df"
   ]
  },
  {
   "cell_type": "code",
   "execution_count": 16,
   "metadata": {},
   "outputs": [
    {
     "data": {
      "text/plain": [
       "60730.66"
      ]
     },
     "execution_count": 16,
     "metadata": {},
     "output_type": "execute_result"
    }
   ],
   "source": [
    "d_day_alpha_percent_VaR_single_stock_historical(df=TEL_df, N=700, d=1, alpha=0.99)"
   ]
  },
  {
   "cell_type": "markdown",
   "metadata": {},
   "source": [
    "<h3 style='color:green'> Exercise on N-Asset Portfolio</h3> \n",
    "Today is February 23, 2018. You are a portfolio risk manager who is assigned to analyze the market risk of a portfolio of 700 PLDT (TEL) shares, 300 Ayala Corporation (AC) shares, and 500 URC shares. What is the portfolio's one-day 99% VaR using historical approach?"
   ]
  },
  {
   "cell_type": "code",
   "execution_count": null,
   "metadata": {},
   "outputs": [],
   "source": []
  }
 ],
 "metadata": {
  "kernelspec": {
   "display_name": "Python 3",
   "language": "python",
   "name": "python3"
  },
  "language_info": {
   "codemirror_mode": {
    "name": "ipython",
    "version": 3
   },
   "file_extension": ".py",
   "mimetype": "text/x-python",
   "name": "python",
   "nbconvert_exporter": "python",
   "pygments_lexer": "ipython3",
   "version": "3.8.5"
  }
 },
 "nbformat": 4,
 "nbformat_minor": 5
}
