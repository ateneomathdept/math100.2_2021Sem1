{
 "cells": [
  {
   "cell_type": "markdown",
   "id": "rolled-luxury",
   "metadata": {},
   "source": [
    "# Value-at-Risk for Stocks: Delta-Normal Approach\n",
    "\n",
    "### Lecture Notes by Jakov Ivan S. Dumbrique (jdumbrique@ateneo.edu)\n",
    "\n",
    "MATH 100.2: Topics in Financial Mathematics II \\\n",
    "First Semester, S.Y. 2020-2021 \\\n",
    "Ateneo de Manila University"
   ]
  },
  {
   "cell_type": "code",
   "execution_count": 5,
   "id": "double-institute",
   "metadata": {},
   "outputs": [],
   "source": [
    "import numpy as np # Numerical Computing\n",
    "import pandas as pd # Data wrangling\n",
    "import matplotlib.pyplot as plt # Plotting\n",
    "from statistics import NormalDist # statistical analysis\n",
    "\n",
    "%matplotlib inline"
   ]
  },
  {
   "cell_type": "markdown",
   "id": "burning-investor",
   "metadata": {},
   "source": [
    "## Are stock returns normally distributed?\n",
    "The Delta-Normal Approach assumes that the daily returns $R_t$ are normally distributed with mean 0 and variance $\\sigma^2$. Is this a good assumption? Does the assumption of normality understate, properly state, or overstate the frequency of market disasters?\n",
    "\n",
    "Let's look at the TEL data and plot it."
   ]
  },
  {
   "cell_type": "code",
   "execution_count": 7,
   "id": "whole-pathology",
   "metadata": {},
   "outputs": [
    {
     "data": {
      "text/html": [
       "<div>\n",
       "<style scoped>\n",
       "    .dataframe tbody tr th:only-of-type {\n",
       "        vertical-align: middle;\n",
       "    }\n",
       "\n",
       "    .dataframe tbody tr th {\n",
       "        vertical-align: top;\n",
       "    }\n",
       "\n",
       "    .dataframe thead th {\n",
       "        text-align: right;\n",
       "    }\n",
       "</style>\n",
       "<table border=\"1\" class=\"dataframe\">\n",
       "  <thead>\n",
       "    <tr style=\"text-align: right;\">\n",
       "      <th></th>\n",
       "      <th>close</th>\n",
       "    </tr>\n",
       "    <tr>\n",
       "      <th>dt</th>\n",
       "      <th></th>\n",
       "    </tr>\n",
       "  </thead>\n",
       "  <tbody>\n",
       "    <tr>\n",
       "      <th>2/23/18</th>\n",
       "      <td>1488.74</td>\n",
       "    </tr>\n",
       "    <tr>\n",
       "      <th>2/22/18</th>\n",
       "      <td>1510.86</td>\n",
       "    </tr>\n",
       "    <tr>\n",
       "      <th>2/21/18</th>\n",
       "      <td>1513.72</td>\n",
       "    </tr>\n",
       "    <tr>\n",
       "      <th>2/20/18</th>\n",
       "      <td>1536.65</td>\n",
       "    </tr>\n",
       "    <tr>\n",
       "      <th>2/16/18</th>\n",
       "      <td>1476.37</td>\n",
       "    </tr>\n",
       "    <tr>\n",
       "      <th>...</th>\n",
       "      <td>...</td>\n",
       "    </tr>\n",
       "    <tr>\n",
       "      <th>3/2/17</th>\n",
       "      <td>1430.29</td>\n",
       "    </tr>\n",
       "    <tr>\n",
       "      <th>3/1/17</th>\n",
       "      <td>1408.94</td>\n",
       "    </tr>\n",
       "    <tr>\n",
       "      <th>2/28/17</th>\n",
       "      <td>1394.35</td>\n",
       "    </tr>\n",
       "    <tr>\n",
       "      <th>2/27/17</th>\n",
       "      <td>1374.93</td>\n",
       "    </tr>\n",
       "    <tr>\n",
       "      <th>2/24/17</th>\n",
       "      <td>1367.68</td>\n",
       "    </tr>\n",
       "  </tbody>\n",
       "</table>\n",
       "<p>248 rows × 1 columns</p>\n",
       "</div>"
      ],
      "text/plain": [
       "           close\n",
       "dt              \n",
       "2/23/18  1488.74\n",
       "2/22/18  1510.86\n",
       "2/21/18  1513.72\n",
       "2/20/18  1536.65\n",
       "2/16/18  1476.37\n",
       "...          ...\n",
       "3/2/17   1430.29\n",
       "3/1/17   1408.94\n",
       "2/28/17  1394.35\n",
       "2/27/17  1374.93\n",
       "2/24/17  1367.68\n",
       "\n",
       "[248 rows x 1 columns]"
      ]
     },
     "execution_count": 7,
     "metadata": {},
     "output_type": "execute_result"
    }
   ],
   "source": [
    "data_path = \"https://raw.githubusercontent.com/ateneomathdept/math100.2_2021Sem1/main/data/lectures/TEL_2018.csv\"\n",
    "TEL_df = pd.read_csv(data_path, index_col=\"dt\")\n",
    "TEL_df"
   ]
  },
  {
   "cell_type": "code",
   "execution_count": 10,
   "id": "caroline-cream",
   "metadata": {},
   "outputs": [
    {
     "data": {
      "image/png": "[encoded data removed]",
      "text/plain": [
       "<Figure size 432x288 with 1 Axes>"
      ]
     },
     "metadata": {
      "needs_background": "light"
     },
     "output_type": "display_data"
    }
   ],
   "source": [
    "TEL_df[\"close\"][::-1].plot() #pd.Series\n",
    "plt.title(\"PLDT Historical Share Prices (Php)\")\n",
    "plt.show()"
   ]
  },
  {
   "cell_type": "markdown",
   "id": "early-lightweight",
   "metadata": {},
   "source": [
    "Let $S_t$ denote the value of the stock at time $t$. The one-day continuous return $R_t$ of the stock is given by\n",
    "$$R_t = \\ln\\left(\\frac{P_t}{P_{t-1}}\\right).$$"
   ]
  },
  {
   "cell_type": "code",
   "execution_count": 9,
   "id": "a082517d",
   "metadata": {},
   "outputs": [
    {
     "data": {
      "text/plain": [
       "dt\n",
       "2/23/18    1510.86\n",
       "2/22/18    1513.72\n",
       "2/21/18    1536.65\n",
       "2/20/18    1476.37\n",
       "2/16/18    1475.71\n",
       "            ...   \n",
       "3/2/17     1408.94\n",
       "3/1/17     1394.35\n",
       "2/28/17    1374.93\n",
       "2/27/17    1367.68\n",
       "2/24/17        NaN\n",
       "Name: close, Length: 248, dtype: float64"
      ]
     },
     "execution_count": 9,
     "metadata": {},
     "output_type": "execute_result"
    }
   ],
   "source": [
    "TEL_df[\"close\"].shift(-1)"
   ]
  },
  {
   "cell_type": "code",
   "execution_count": 10,
   "id": "former-place",
   "metadata": {},
   "outputs": [
    {
     "data": {
      "text/html": [
       "<div>\n",
       "<style scoped>\n",
       "    .dataframe tbody tr th:only-of-type {\n",
       "        vertical-align: middle;\n",
       "    }\n",
       "\n",
       "    .dataframe tbody tr th {\n",
       "        vertical-align: top;\n",
       "    }\n",
       "\n",
       "    .dataframe thead th {\n",
       "        text-align: right;\n",
       "    }\n",
       "</style>\n",
       "<table border=\"1\" class=\"dataframe\">\n",
       "  <thead>\n",
       "    <tr style=\"text-align: right;\">\n",
       "      <th></th>\n",
       "      <th>close</th>\n",
       "      <th>previous</th>\n",
       "    </tr>\n",
       "    <tr>\n",
       "      <th>dt</th>\n",
       "      <th></th>\n",
       "      <th></th>\n",
       "    </tr>\n",
       "  </thead>\n",
       "  <tbody>\n",
       "    <tr>\n",
       "      <th>2/23/18</th>\n",
       "      <td>1488.74</td>\n",
       "      <td>1510.86</td>\n",
       "    </tr>\n",
       "    <tr>\n",
       "      <th>2/22/18</th>\n",
       "      <td>1510.86</td>\n",
       "      <td>1513.72</td>\n",
       "    </tr>\n",
       "    <tr>\n",
       "      <th>2/21/18</th>\n",
       "      <td>1513.72</td>\n",
       "      <td>1536.65</td>\n",
       "    </tr>\n",
       "    <tr>\n",
       "      <th>2/20/18</th>\n",
       "      <td>1536.65</td>\n",
       "      <td>1476.37</td>\n",
       "    </tr>\n",
       "    <tr>\n",
       "      <th>2/16/18</th>\n",
       "      <td>1476.37</td>\n",
       "      <td>1475.71</td>\n",
       "    </tr>\n",
       "    <tr>\n",
       "      <th>...</th>\n",
       "      <td>...</td>\n",
       "      <td>...</td>\n",
       "    </tr>\n",
       "    <tr>\n",
       "      <th>3/2/17</th>\n",
       "      <td>1430.29</td>\n",
       "      <td>1408.94</td>\n",
       "    </tr>\n",
       "    <tr>\n",
       "      <th>3/1/17</th>\n",
       "      <td>1408.94</td>\n",
       "      <td>1394.35</td>\n",
       "    </tr>\n",
       "    <tr>\n",
       "      <th>2/28/17</th>\n",
       "      <td>1394.35</td>\n",
       "      <td>1374.93</td>\n",
       "    </tr>\n",
       "    <tr>\n",
       "      <th>2/27/17</th>\n",
       "      <td>1374.93</td>\n",
       "      <td>1367.68</td>\n",
       "    </tr>\n",
       "    <tr>\n",
       "      <th>2/24/17</th>\n",
       "      <td>1367.68</td>\n",
       "      <td>NaN</td>\n",
       "    </tr>\n",
       "  </tbody>\n",
       "</table>\n",
       "<p>248 rows × 2 columns</p>\n",
       "</div>"
      ],
      "text/plain": [
       "           close  previous\n",
       "dt                        \n",
       "2/23/18  1488.74   1510.86\n",
       "2/22/18  1510.86   1513.72\n",
       "2/21/18  1513.72   1536.65\n",
       "2/20/18  1536.65   1476.37\n",
       "2/16/18  1476.37   1475.71\n",
       "...          ...       ...\n",
       "3/2/17   1430.29   1408.94\n",
       "3/1/17   1408.94   1394.35\n",
       "2/28/17  1394.35   1374.93\n",
       "2/27/17  1374.93   1367.68\n",
       "2/24/17  1367.68       NaN\n",
       "\n",
       "[248 rows x 2 columns]"
      ]
     },
     "execution_count": 10,
     "metadata": {},
     "output_type": "execute_result"
    }
   ],
   "source": [
    "# creates a new column that shifts the prices d values up (or -d values down)\n",
    "TEL_df[\"previous\"] = TEL_df[\"close\"].shift(-1)\n",
    "TEL_df"
   ]
  },
  {
   "cell_type": "code",
   "execution_count": 11,
   "id": "infectious-contents",
   "metadata": {},
   "outputs": [],
   "source": [
    "def get_return(df):\n",
    "    return np.log(df[\"close\"]/df[\"previous\"])"
   ]
  },
  {
   "cell_type": "code",
   "execution_count": 15,
   "id": "opened-ground",
   "metadata": {},
   "outputs": [
    {
     "data": {
      "text/html": [
       "<div>\n",
       "<style scoped>\n",
       "    .dataframe tbody tr th:only-of-type {\n",
       "        vertical-align: middle;\n",
       "    }\n",
       "\n",
       "    .dataframe tbody tr th {\n",
       "        vertical-align: top;\n",
       "    }\n",
       "\n",
       "    .dataframe thead th {\n",
       "        text-align: right;\n",
       "    }\n",
       "</style>\n",
       "<table border=\"1\" class=\"dataframe\">\n",
       "  <thead>\n",
       "    <tr style=\"text-align: right;\">\n",
       "      <th></th>\n",
       "      <th>close</th>\n",
       "      <th>previous</th>\n",
       "      <th>return</th>\n",
       "    </tr>\n",
       "    <tr>\n",
       "      <th>dt</th>\n",
       "      <th></th>\n",
       "      <th></th>\n",
       "      <th></th>\n",
       "    </tr>\n",
       "  </thead>\n",
       "  <tbody>\n",
       "    <tr>\n",
       "      <th>2/23/18</th>\n",
       "      <td>1488.74</td>\n",
       "      <td>1510.86</td>\n",
       "      <td>-0.014749</td>\n",
       "    </tr>\n",
       "    <tr>\n",
       "      <th>2/22/18</th>\n",
       "      <td>1510.86</td>\n",
       "      <td>1513.72</td>\n",
       "      <td>-0.001891</td>\n",
       "    </tr>\n",
       "    <tr>\n",
       "      <th>2/21/18</th>\n",
       "      <td>1513.72</td>\n",
       "      <td>1536.65</td>\n",
       "      <td>-0.015035</td>\n",
       "    </tr>\n",
       "    <tr>\n",
       "      <th>2/20/18</th>\n",
       "      <td>1536.65</td>\n",
       "      <td>1476.37</td>\n",
       "      <td>0.040018</td>\n",
       "    </tr>\n",
       "    <tr>\n",
       "      <th>2/16/18</th>\n",
       "      <td>1476.37</td>\n",
       "      <td>1475.71</td>\n",
       "      <td>0.000447</td>\n",
       "    </tr>\n",
       "    <tr>\n",
       "      <th>...</th>\n",
       "      <td>...</td>\n",
       "      <td>...</td>\n",
       "      <td>...</td>\n",
       "    </tr>\n",
       "    <tr>\n",
       "      <th>3/2/17</th>\n",
       "      <td>1430.29</td>\n",
       "      <td>1408.94</td>\n",
       "      <td>0.015040</td>\n",
       "    </tr>\n",
       "    <tr>\n",
       "      <th>3/1/17</th>\n",
       "      <td>1408.94</td>\n",
       "      <td>1394.35</td>\n",
       "      <td>0.010409</td>\n",
       "    </tr>\n",
       "    <tr>\n",
       "      <th>2/28/17</th>\n",
       "      <td>1394.35</td>\n",
       "      <td>1374.93</td>\n",
       "      <td>0.014026</td>\n",
       "    </tr>\n",
       "    <tr>\n",
       "      <th>2/27/17</th>\n",
       "      <td>1374.93</td>\n",
       "      <td>1367.68</td>\n",
       "      <td>0.005287</td>\n",
       "    </tr>\n",
       "    <tr>\n",
       "      <th>2/24/17</th>\n",
       "      <td>1367.68</td>\n",
       "      <td>NaN</td>\n",
       "      <td>NaN</td>\n",
       "    </tr>\n",
       "  </tbody>\n",
       "</table>\n",
       "<p>248 rows × 3 columns</p>\n",
       "</div>"
      ],
      "text/plain": [
       "           close  previous    return\n",
       "dt                                  \n",
       "2/23/18  1488.74   1510.86 -0.014749\n",
       "2/22/18  1510.86   1513.72 -0.001891\n",
       "2/21/18  1513.72   1536.65 -0.015035\n",
       "2/20/18  1536.65   1476.37  0.040018\n",
       "2/16/18  1476.37   1475.71  0.000447\n",
       "...          ...       ...       ...\n",
       "3/2/17   1430.29   1408.94  0.015040\n",
       "3/1/17   1408.94   1394.35  0.010409\n",
       "2/28/17  1394.35   1374.93  0.014026\n",
       "2/27/17  1374.93   1367.68  0.005287\n",
       "2/24/17  1367.68       NaN       NaN\n",
       "\n",
       "[248 rows x 3 columns]"
      ]
     },
     "execution_count": 15,
     "metadata": {},
     "output_type": "execute_result"
    }
   ],
   "source": [
    "TEL_df[\"return\"] = TEL_df.apply(get_return, axis=1)\n",
    "TEL_df"
   ]
  },
  {
   "cell_type": "markdown",
   "id": "indonesian-adjustment",
   "metadata": {},
   "source": [
    "Let's fit a normal distribution to the data, and plot the histogram of data against it."
   ]
  },
  {
   "cell_type": "code",
   "execution_count": 22,
   "id": "communist-suicide",
   "metadata": {},
   "outputs": [
    {
     "data": {
      "image/png": "[encoded data removed]",
      "text/plain": [
       "<Figure size 432x288 with 1 Axes>"
      ]
     },
     "metadata": {
      "needs_background": "light"
     },
     "output_type": "display_data"
    }
   ],
   "source": [
    "from scipy.stats import norm # statistical analysis\n",
    "# Get data, drop the last row with nan value (not a number)\n",
    "data = TEL_df[\"return\"].dropna()\n",
    "\n",
    "# Fit a normal distribution to the data:\n",
    "mu, std = norm.fit(data) # provides MLE of the parameters for the Gaussian curve which has the highest likelihood of fitting our dataset \n",
    "\n",
    "# Plot the histogram.\n",
    "plt.hist(data, bins=40, density=True, alpha=0.6, color='g')\n",
    "\n",
    "# Plot the PDF\n",
    "xmin, xmax = plt.xlim() # gets the left and right limits of the x-axis of the current plot\n",
    "x = np.linspace(xmin, xmax, 100) # array of 100 evenly-spaced numbers in the interval (xmin, xmax)\n",
    "p = norm.pdf(x, mu, std) # array \n",
    "plt.plot(x, p, 'k', linewidth=2) # k for black\n",
    "title = \"Fit results: mu = %.4f,  std = %.4f\" % (mu, std)\n",
    "plt.title(title)\n",
    "\n",
    "plt.show()"
   ]
  },
  {
   "cell_type": "markdown",
   "id": "liberal-chaos",
   "metadata": {},
   "source": [
    "The distribution looks approximately normal. Furthermore, the resulting MLE for the Gaussian mean is close to 0. Thus, by eyeballing, the normal distribution might be a good fit for the stock returns.\n",
    "\n",
    "However, if we  look to the extreme left and right of the histogram distribution, we can see the famous fat tails. The fat tails mean that extreme events occur more frequently in reality than what a normal distribution would predict. More evidence of that is how the actual distribution of daily TEL returns is skinnier in its center than the normal distribution. The skinny middle and the fat tails imply that the normal distribution might not be the best distribution to describe the stock returns. This fat-tail distribution is common among stock returns calculated from real data. To more accurately model the stock returns, researchers consider 2 regimes — a calm regime where we spend most of the time that is normally distributed (but with a lower volatility) and a regime with high volatility and extreme (sometimes terrible) returns.\n",
    "\n",
    "Nonethless, we cannot neglect that the normal distribution is still a good one to use. Practioners use the normal distribution as starting point for modelling stock returns as this is simple to use and implement. Any time we can model something with normal distributions, it makes life a lot easier. For example, the return of a portfolio consisting of many investments (each with normally distributed returns) is also normally distributed. And to describe an investment, we only need 2 values: the mean (a.k.a. the investment’s expected return) and the standard deviation (a.k.a. the investment’s risk). If we want to be thorough, we should also record the investment’s correlation with our overall portfolio.\n",
    "\n",
    "There are other statistical ways to check normality of the daily returns, and not just to eyeball:\n",
    "1. [QQ plot](https://towardsdatascience.com/what-in-the-world-are-qq-plots-20d0e41dece1)\n",
    "2. [Jarque-Bera Normality test](https://www.statisticshowto.com/jarque-bera-test/)\n",
    "\n",
    "Reference: https://towardsdatascience.com/are-stock-returns-normally-distributed-e0388d71267e"
   ]
  },
  {
   "cell_type": "markdown",
   "id": "technological-montgomery",
   "metadata": {},
   "source": [
    "## VaR for Stocks: Single-Asset Portfolio"
   ]
  },
  {
   "cell_type": "markdown",
   "id": "guilty-harmony",
   "metadata": {},
   "source": [
    "Consider a single-asset portfolio consisting of a long position on $N$ shares of a stock with current price $S_0$. Let $\\Delta P$ denote the change in portfolio value.\n",
    "\n",
    "The **1-day 99\\% VaR** of the portfolio is the number $|V|$ such that \n",
    "$$\\mathbb{P}[\\Delta P\\geq V] = 0.99.$$ \n",
    "This is given by\n",
    "\n",
    "\\begin{equation}\n",
    "\\text{VaR}_{0.99} = |V| = NS_0\\sigma\\Phi^{-1}(0.99).\n",
    "\\end{equation}"
   ]
  },
  {
   "cell_type": "markdown",
   "id": "impressed-savings",
   "metadata": {},
   "source": [
    "**The 1-day 99\\% VaR  is 1M pesos.**\n",
    "\n",
    "There is 99% level of confidence that the loss of the portfolio will not exceed 1M pesos over the next trading day."
   ]
  },
  {
   "cell_type": "markdown",
   "id": "postal-attention",
   "metadata": {},
   "source": [
    "### Exercise 1:\n",
    "A portfolio consists of Php 10,000,000 worth of shares of stock A. Assume that the daily volatility is 2%. What is the portfolio's one-day 99% VaR? "
   ]
  },
  {
   "cell_type": "code",
   "execution_count": 16,
   "id": "fiscal-criticism",
   "metadata": {},
   "outputs": [
    {
     "data": {
      "text/plain": [
       "465269.5748"
      ]
     },
     "execution_count": 16,
     "metadata": {},
     "output_type": "execute_result"
    }
   ],
   "source": [
    "portval = 10000000 # N*S_0\n",
    "sigma = 0.02\n",
    "alpha = 0.99\n",
    "\n",
    "quantile = NormalDist().inv_cdf(alpha)\n",
    "var = portval * sigma *quantile\n",
    "round(var, 4)"
   ]
  },
  {
   "cell_type": "code",
   "execution_count": 17,
   "id": "822ee968",
   "metadata": {},
   "outputs": [
    {
     "data": {
      "text/plain": [
       "2.3263478740408408"
      ]
     },
     "execution_count": 17,
     "metadata": {},
     "output_type": "execute_result"
    }
   ],
   "source": [
    "quantile"
   ]
  },
  {
   "cell_type": "markdown",
   "id": "scheduled-minimum",
   "metadata": {},
   "source": [
    "### Exercise 2:\n",
    "Today is February 23, 2018. You are a portfolio risk manager who is assigned to analyze the market risk of a portfolio of 700 PLDT (TEL) shares. What is the portfolio's one-day 99% VaR using the delta-normal approach? "
   ]
  },
  {
   "cell_type": "code",
   "execution_count": 18,
   "id": "beneficial-table",
   "metadata": {},
   "outputs": [
    {
     "data": {
      "text/html": [
       "<div>\n",
       "<style scoped>\n",
       "    .dataframe tbody tr th:only-of-type {\n",
       "        vertical-align: middle;\n",
       "    }\n",
       "\n",
       "    .dataframe tbody tr th {\n",
       "        vertical-align: top;\n",
       "    }\n",
       "\n",
       "    .dataframe thead th {\n",
       "        text-align: right;\n",
       "    }\n",
       "</style>\n",
       "<table border=\"1\" class=\"dataframe\">\n",
       "  <thead>\n",
       "    <tr style=\"text-align: right;\">\n",
       "      <th></th>\n",
       "      <th>dt</th>\n",
       "      <th>close</th>\n",
       "    </tr>\n",
       "  </thead>\n",
       "  <tbody>\n",
       "    <tr>\n",
       "      <th>0</th>\n",
       "      <td>2/23/18</td>\n",
       "      <td>1488.74</td>\n",
       "    </tr>\n",
       "    <tr>\n",
       "      <th>1</th>\n",
       "      <td>2/22/18</td>\n",
       "      <td>1510.86</td>\n",
       "    </tr>\n",
       "    <tr>\n",
       "      <th>2</th>\n",
       "      <td>2/21/18</td>\n",
       "      <td>1513.72</td>\n",
       "    </tr>\n",
       "    <tr>\n",
       "      <th>3</th>\n",
       "      <td>2/20/18</td>\n",
       "      <td>1536.65</td>\n",
       "    </tr>\n",
       "    <tr>\n",
       "      <th>4</th>\n",
       "      <td>2/16/18</td>\n",
       "      <td>1476.37</td>\n",
       "    </tr>\n",
       "    <tr>\n",
       "      <th>...</th>\n",
       "      <td>...</td>\n",
       "      <td>...</td>\n",
       "    </tr>\n",
       "    <tr>\n",
       "      <th>243</th>\n",
       "      <td>3/2/17</td>\n",
       "      <td>1430.29</td>\n",
       "    </tr>\n",
       "    <tr>\n",
       "      <th>244</th>\n",
       "      <td>3/1/17</td>\n",
       "      <td>1408.94</td>\n",
       "    </tr>\n",
       "    <tr>\n",
       "      <th>245</th>\n",
       "      <td>2/28/17</td>\n",
       "      <td>1394.35</td>\n",
       "    </tr>\n",
       "    <tr>\n",
       "      <th>246</th>\n",
       "      <td>2/27/17</td>\n",
       "      <td>1374.93</td>\n",
       "    </tr>\n",
       "    <tr>\n",
       "      <th>247</th>\n",
       "      <td>2/24/17</td>\n",
       "      <td>1367.68</td>\n",
       "    </tr>\n",
       "  </tbody>\n",
       "</table>\n",
       "<p>248 rows × 2 columns</p>\n",
       "</div>"
      ],
      "text/plain": [
       "          dt    close\n",
       "0    2/23/18  1488.74\n",
       "1    2/22/18  1510.86\n",
       "2    2/21/18  1513.72\n",
       "3    2/20/18  1536.65\n",
       "4    2/16/18  1476.37\n",
       "..       ...      ...\n",
       "243   3/2/17  1430.29\n",
       "244   3/1/17  1408.94\n",
       "245  2/28/17  1394.35\n",
       "246  2/27/17  1374.93\n",
       "247  2/24/17  1367.68\n",
       "\n",
       "[248 rows x 2 columns]"
      ]
     },
     "execution_count": 18,
     "metadata": {},
     "output_type": "execute_result"
    }
   ],
   "source": [
    "# read the data\n",
    "TEL_df = pd.read_csv(data_path) \n",
    "\n",
    "TEL_df"
   ]
  },
  {
   "cell_type": "code",
   "execution_count": 21,
   "id": "bridal-stereo",
   "metadata": {},
   "outputs": [],
   "source": [
    "alpha = 0.99\n",
    "N = 700\n",
    "S_0 = TEL_df.loc[0, \"close\"]"
   ]
  },
  {
   "cell_type": "code",
   "execution_count": 16,
   "id": "7d84d4d4",
   "metadata": {},
   "outputs": [
    {
     "data": {
      "text/plain": [
       "1488.74"
      ]
     },
     "execution_count": 16,
     "metadata": {},
     "output_type": "execute_result"
    }
   ],
   "source": [
    "S_0"
   ]
  },
  {
   "cell_type": "code",
   "execution_count": 19,
   "id": "czech-michael",
   "metadata": {},
   "outputs": [
    {
     "data": {
      "text/html": [
       "<div>\n",
       "<style scoped>\n",
       "    .dataframe tbody tr th:only-of-type {\n",
       "        vertical-align: middle;\n",
       "    }\n",
       "\n",
       "    .dataframe tbody tr th {\n",
       "        vertical-align: top;\n",
       "    }\n",
       "\n",
       "    .dataframe thead th {\n",
       "        text-align: right;\n",
       "    }\n",
       "</style>\n",
       "<table border=\"1\" class=\"dataframe\">\n",
       "  <thead>\n",
       "    <tr style=\"text-align: right;\">\n",
       "      <th></th>\n",
       "      <th>dt</th>\n",
       "      <th>close</th>\n",
       "      <th>previous</th>\n",
       "    </tr>\n",
       "  </thead>\n",
       "  <tbody>\n",
       "    <tr>\n",
       "      <th>0</th>\n",
       "      <td>2/23/18</td>\n",
       "      <td>1488.74</td>\n",
       "      <td>1510.86</td>\n",
       "    </tr>\n",
       "    <tr>\n",
       "      <th>1</th>\n",
       "      <td>2/22/18</td>\n",
       "      <td>1510.86</td>\n",
       "      <td>1513.72</td>\n",
       "    </tr>\n",
       "    <tr>\n",
       "      <th>2</th>\n",
       "      <td>2/21/18</td>\n",
       "      <td>1513.72</td>\n",
       "      <td>1536.65</td>\n",
       "    </tr>\n",
       "    <tr>\n",
       "      <th>3</th>\n",
       "      <td>2/20/18</td>\n",
       "      <td>1536.65</td>\n",
       "      <td>1476.37</td>\n",
       "    </tr>\n",
       "    <tr>\n",
       "      <th>4</th>\n",
       "      <td>2/16/18</td>\n",
       "      <td>1476.37</td>\n",
       "      <td>1475.71</td>\n",
       "    </tr>\n",
       "    <tr>\n",
       "      <th>...</th>\n",
       "      <td>...</td>\n",
       "      <td>...</td>\n",
       "      <td>...</td>\n",
       "    </tr>\n",
       "    <tr>\n",
       "      <th>243</th>\n",
       "      <td>3/2/17</td>\n",
       "      <td>1430.29</td>\n",
       "      <td>1408.94</td>\n",
       "    </tr>\n",
       "    <tr>\n",
       "      <th>244</th>\n",
       "      <td>3/1/17</td>\n",
       "      <td>1408.94</td>\n",
       "      <td>1394.35</td>\n",
       "    </tr>\n",
       "    <tr>\n",
       "      <th>245</th>\n",
       "      <td>2/28/17</td>\n",
       "      <td>1394.35</td>\n",
       "      <td>1374.93</td>\n",
       "    </tr>\n",
       "    <tr>\n",
       "      <th>246</th>\n",
       "      <td>2/27/17</td>\n",
       "      <td>1374.93</td>\n",
       "      <td>1367.68</td>\n",
       "    </tr>\n",
       "    <tr>\n",
       "      <th>247</th>\n",
       "      <td>2/24/17</td>\n",
       "      <td>1367.68</td>\n",
       "      <td>NaN</td>\n",
       "    </tr>\n",
       "  </tbody>\n",
       "</table>\n",
       "<p>248 rows × 3 columns</p>\n",
       "</div>"
      ],
      "text/plain": [
       "          dt    close  previous\n",
       "0    2/23/18  1488.74   1510.86\n",
       "1    2/22/18  1510.86   1513.72\n",
       "2    2/21/18  1513.72   1536.65\n",
       "3    2/20/18  1536.65   1476.37\n",
       "4    2/16/18  1476.37   1475.71\n",
       "..       ...      ...       ...\n",
       "243   3/2/17  1430.29   1408.94\n",
       "244   3/1/17  1408.94   1394.35\n",
       "245  2/28/17  1394.35   1374.93\n",
       "246  2/27/17  1374.93   1367.68\n",
       "247  2/24/17  1367.68       NaN\n",
       "\n",
       "[248 rows x 3 columns]"
      ]
     },
     "execution_count": 19,
     "metadata": {},
     "output_type": "execute_result"
    }
   ],
   "source": [
    "# creates a new column that shifts the prices d values up (or -d values down)\n",
    "TEL_df[\"previous\"] = TEL_df[\"close\"].shift(-1)\n",
    "TEL_df"
   ]
  },
  {
   "cell_type": "code",
   "execution_count": 20,
   "id": "common-canadian",
   "metadata": {},
   "outputs": [
    {
     "data": {
      "text/html": [
       "<div>\n",
       "<style scoped>\n",
       "    .dataframe tbody tr th:only-of-type {\n",
       "        vertical-align: middle;\n",
       "    }\n",
       "\n",
       "    .dataframe tbody tr th {\n",
       "        vertical-align: top;\n",
       "    }\n",
       "\n",
       "    .dataframe thead th {\n",
       "        text-align: right;\n",
       "    }\n",
       "</style>\n",
       "<table border=\"1\" class=\"dataframe\">\n",
       "  <thead>\n",
       "    <tr style=\"text-align: right;\">\n",
       "      <th></th>\n",
       "      <th>dt</th>\n",
       "      <th>close</th>\n",
       "      <th>previous</th>\n",
       "      <th>return</th>\n",
       "    </tr>\n",
       "  </thead>\n",
       "  <tbody>\n",
       "    <tr>\n",
       "      <th>0</th>\n",
       "      <td>2/23/18</td>\n",
       "      <td>1488.74</td>\n",
       "      <td>1510.86</td>\n",
       "      <td>-0.014749</td>\n",
       "    </tr>\n",
       "    <tr>\n",
       "      <th>1</th>\n",
       "      <td>2/22/18</td>\n",
       "      <td>1510.86</td>\n",
       "      <td>1513.72</td>\n",
       "      <td>-0.001891</td>\n",
       "    </tr>\n",
       "    <tr>\n",
       "      <th>2</th>\n",
       "      <td>2/21/18</td>\n",
       "      <td>1513.72</td>\n",
       "      <td>1536.65</td>\n",
       "      <td>-0.015035</td>\n",
       "    </tr>\n",
       "    <tr>\n",
       "      <th>3</th>\n",
       "      <td>2/20/18</td>\n",
       "      <td>1536.65</td>\n",
       "      <td>1476.37</td>\n",
       "      <td>0.040018</td>\n",
       "    </tr>\n",
       "    <tr>\n",
       "      <th>4</th>\n",
       "      <td>2/16/18</td>\n",
       "      <td>1476.37</td>\n",
       "      <td>1475.71</td>\n",
       "      <td>0.000447</td>\n",
       "    </tr>\n",
       "    <tr>\n",
       "      <th>...</th>\n",
       "      <td>...</td>\n",
       "      <td>...</td>\n",
       "      <td>...</td>\n",
       "      <td>...</td>\n",
       "    </tr>\n",
       "    <tr>\n",
       "      <th>243</th>\n",
       "      <td>3/2/17</td>\n",
       "      <td>1430.29</td>\n",
       "      <td>1408.94</td>\n",
       "      <td>0.015040</td>\n",
       "    </tr>\n",
       "    <tr>\n",
       "      <th>244</th>\n",
       "      <td>3/1/17</td>\n",
       "      <td>1408.94</td>\n",
       "      <td>1394.35</td>\n",
       "      <td>0.010409</td>\n",
       "    </tr>\n",
       "    <tr>\n",
       "      <th>245</th>\n",
       "      <td>2/28/17</td>\n",
       "      <td>1394.35</td>\n",
       "      <td>1374.93</td>\n",
       "      <td>0.014026</td>\n",
       "    </tr>\n",
       "    <tr>\n",
       "      <th>246</th>\n",
       "      <td>2/27/17</td>\n",
       "      <td>1374.93</td>\n",
       "      <td>1367.68</td>\n",
       "      <td>0.005287</td>\n",
       "    </tr>\n",
       "    <tr>\n",
       "      <th>247</th>\n",
       "      <td>2/24/17</td>\n",
       "      <td>1367.68</td>\n",
       "      <td>NaN</td>\n",
       "      <td>NaN</td>\n",
       "    </tr>\n",
       "  </tbody>\n",
       "</table>\n",
       "<p>248 rows × 4 columns</p>\n",
       "</div>"
      ],
      "text/plain": [
       "          dt    close  previous    return\n",
       "0    2/23/18  1488.74   1510.86 -0.014749\n",
       "1    2/22/18  1510.86   1513.72 -0.001891\n",
       "2    2/21/18  1513.72   1536.65 -0.015035\n",
       "3    2/20/18  1536.65   1476.37  0.040018\n",
       "4    2/16/18  1476.37   1475.71  0.000447\n",
       "..       ...      ...       ...       ...\n",
       "243   3/2/17  1430.29   1408.94  0.015040\n",
       "244   3/1/17  1408.94   1394.35  0.010409\n",
       "245  2/28/17  1394.35   1374.93  0.014026\n",
       "246  2/27/17  1374.93   1367.68  0.005287\n",
       "247  2/24/17  1367.68       NaN       NaN\n",
       "\n",
       "[248 rows x 4 columns]"
      ]
     },
     "execution_count": 20,
     "metadata": {},
     "output_type": "execute_result"
    }
   ],
   "source": [
    "TEL_df[\"return\"] = TEL_df.apply(get_return, axis=1)\n",
    "TEL_df"
   ]
  },
  {
   "cell_type": "code",
   "execution_count": 22,
   "id": "otherwise-astrology",
   "metadata": {},
   "outputs": [
    {
     "data": {
      "text/plain": [
       "0.019629260903431183"
      ]
     },
     "execution_count": 22,
     "metadata": {},
     "output_type": "execute_result"
    }
   ],
   "source": [
    "# standard deviation of your stock returns\n",
    "sigma = TEL_df[\"return\"].std()\n",
    "# returns the sample standard deviation (denom: N-1)\n",
    "sigma"
   ]
  },
  {
   "cell_type": "code",
   "execution_count": 23,
   "id": "filled-sponsorship",
   "metadata": {},
   "outputs": [
    {
     "name": "stdout",
     "output_type": "stream",
     "text": [
      "The one-day 99% VaR is Php 47587.79.\n"
     ]
    }
   ],
   "source": [
    "quantile = NormalDist().inv_cdf(alpha)\n",
    "var = N * S_0 * sigma * quantile\n",
    "print(f\"The one-day 99% VaR is Php {round(var, 2)}.\")"
   ]
  },
  {
   "cell_type": "code",
   "execution_count": 24,
   "id": "50297842",
   "metadata": {},
   "outputs": [
    {
     "data": {
      "text/plain": [
       "1042118.0"
      ]
     },
     "execution_count": 24,
     "metadata": {},
     "output_type": "execute_result"
    }
   ],
   "source": [
    "N * S_0"
   ]
  },
  {
   "cell_type": "code",
   "execution_count": 25,
   "id": "refined-works",
   "metadata": {},
   "outputs": [],
   "source": [
    "def one_day_alpha_percent_VaR_single_stock_delta_normal(df, N, alpha):\n",
    "    \n",
    "    \"\"\"Returns the one-day 100(alpha)% VaR of a single stock using Delta Normal Approach.\n",
    "    \n",
    "    Parameters\n",
    "    ----------\n",
    "    df : pandas.DataFrame\n",
    "        has two columns: (1) dt [str] and (2) closing price [float]\n",
    "        assumes the dates are arranged from newest to oldest, and the date today is the date on the first row  \n",
    "    N : int\n",
    "        number of shares for the sole stock\n",
    "    alpha : int\n",
    "        the value to be used in calculting the 100(alpha)% VaR (e.g. 0.99, 0.95)\n",
    "    \n",
    "    Returns\n",
    "    -------\n",
    "    float (2 decimal places)\n",
    "        one-day 100(alpha)% VaR of a single stock using Delta Normal Approach\n",
    "    \"\"\"\n",
    "\n",
    "    S_0 = df.loc[0, \"close\"]\n",
    "    \n",
    "    # creates a new column that shifts the prices d values up (or -d values down)\n",
    "    df[\"previous\"] = df[\"close\"].shift(-1)\n",
    "    # get the daily returns\n",
    "    df[\"return\"] = df.apply(get_return, axis=1)\n",
    "    \n",
    "    # standard deviation of your stock returns\n",
    "    sigma = df[\"return\"].std()\n",
    "    \n",
    "    quantile = NormalDist().inv_cdf(alpha)\n",
    "    var = N * S_0 * sigma * quantile\n",
    "    \n",
    "    return round(var, 2)\n",
    "    "
   ]
  },
  {
   "cell_type": "code",
   "execution_count": 26,
   "id": "ba3a2b32",
   "metadata": {},
   "outputs": [
    {
     "data": {
      "text/plain": [
       "47587.79"
      ]
     },
     "execution_count": 26,
     "metadata": {},
     "output_type": "execute_result"
    }
   ],
   "source": [
    "one_day_alpha_percent_VaR_single_stock_delta_normal(TEL_df, N=700, alpha=0.99)"
   ]
  },
  {
   "cell_type": "markdown",
   "id": "crude-article",
   "metadata": {},
   "source": [
    "Today is February 23, 2018. You are a portfolio risk manager who is assigned to analyze the market risk of a portfolio of 1000 PLDT (TEL) shares. What is the portfolio's one-day 95% VaR using the delta-normal approach? "
   ]
  },
  {
   "cell_type": "code",
   "execution_count": 27,
   "id": "suspended-prophet",
   "metadata": {},
   "outputs": [
    {
     "data": {
      "text/plain": [
       "48067.34"
      ]
     },
     "execution_count": 27,
     "metadata": {},
     "output_type": "execute_result"
    }
   ],
   "source": [
    "# read the data\n",
    "TEL_df = pd.read_csv(data_path) \n",
    "\n",
    "one_day_alpha_percent_VaR_single_stock_delta_normal(TEL_df, N=1000, alpha=0.95)"
   ]
  },
  {
   "cell_type": "code",
   "execution_count": null,
   "id": "28653bff",
   "metadata": {},
   "outputs": [],
   "source": []
  }
 ],
 "metadata": {
  "kernelspec": {
   "display_name": "Python 3",
   "language": "python",
   "name": "python3"
  },
  "language_info": {
   "codemirror_mode": {
    "name": "ipython",
    "version": 3
   },
   "file_extension": ".py",
   "mimetype": "text/x-python",
   "name": "python",
   "nbconvert_exporter": "python",
   "pygments_lexer": "ipython3",
   "version": "3.8.5"
  }
 },
 "nbformat": 4,
 "nbformat_minor": 5
}
