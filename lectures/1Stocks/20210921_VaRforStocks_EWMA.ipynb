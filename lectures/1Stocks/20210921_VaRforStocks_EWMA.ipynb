{
 "cells": [
  {
   "cell_type": "markdown",
   "id": "a6a04ef9",
   "metadata": {},
   "source": [
    "# Value-at-Risk for Stocks: Delta-Normal Approach, EWMA\n",
    "\n",
    "### Lecture Notes by Jakov Ivan S. Dumbrique (jdumbrique@ateneo.edu)\n",
    "\n",
    "MATH 100.2: Topics in Financial Mathematics II \\\n",
    "First Semester, S.Y. 2021-2022 \\\n",
    "Ateneo de Manila University"
   ]
  },
  {
   "cell_type": "code",
   "execution_count": 1,
   "id": "a718ac3a",
   "metadata": {},
   "outputs": [],
   "source": [
    "import numpy as np # Numerical Computing\n",
    "import pandas as pd # Data wrangling\n",
    "import matplotlib.pyplot as plt # Plotting\n",
    "from scipy.stats import norm # statistical analysis\n",
    "from statistics import NormalDist # statistical analysis\n",
    "\n",
    "%matplotlib inline"
   ]
  },
  {
   "cell_type": "code",
   "execution_count": 2,
   "id": "af0801f7",
   "metadata": {},
   "outputs": [],
   "source": [
    "def get_return(df):\n",
    "    return np.log(df[\"close\"]/df[\"previous\"])"
   ]
  },
  {
   "cell_type": "code",
   "execution_count": 3,
   "id": "47dc88ac",
   "metadata": {},
   "outputs": [],
   "source": [
    "def one_day_alpha_percent_VaR_single_stock_delta_normal(df, N, alpha):\n",
    "    \n",
    "    \"\"\"Returns the one-day 100(alpha)% VaR of a single stock using Delta Normal Approach.\n",
    "    \n",
    "    Parameters\n",
    "    ----------\n",
    "    df : pandas.DataFrame\n",
    "        has two columns: (1) dt [str] and (2) closing price [float]\n",
    "        assumes the dates are arranged from newest to oldest, and the date today is the date on the first row  \n",
    "    N : int\n",
    "        number of shares for the sole stock\n",
    "    alpha : int\n",
    "        the value to be used in calculting the 100(alpha)% VaR (e.g. 0.99, 0.95)\n",
    "    \n",
    "    Returns\n",
    "    -------\n",
    "    float (2 decimal places)\n",
    "        one-day 100(alpha)% VaR of a single stock using Delta Normal Approach\n",
    "    \"\"\"\n",
    "\n",
    "    S_0 = df.loc[0, \"close\"]\n",
    "    \n",
    "    # creates a new column that shifts the prices d values up (or -d values down)\n",
    "    df[\"previous\"] = df[\"close\"].shift(-1)\n",
    "    # get the daily returns\n",
    "    df[\"return\"] = df.apply(get_return, axis=1)\n",
    "    \n",
    "    # standard deviation of your stock returns\n",
    "    sigma = df[\"return\"].std()\n",
    "    \n",
    "    quantile = NormalDist().inv_cdf(alpha)\n",
    "    var = N * S_0 * sigma * quantile\n",
    "    \n",
    "    return round(var, 2)\n",
    "    "
   ]
  },
  {
   "cell_type": "markdown",
   "id": "3e7f240e",
   "metadata": {},
   "source": [
    "# EWMA for a single-asset portfolio\n",
    "The one-day 99\\% VaR on the portfolio is given by\n",
    "\t\t\\begin{equation}\n",
    "\t\t\\text{VaR}_{0.99} = |V| = NS_0\\sigma_n\\Phi^{-1}(0.99).\n",
    "\t\t\\end{equation}\n",
    " The variance estimate $\\sigma_n^2$ from the EWMA can be used as the variance of the random variable $R$, and so we assume that $R\\sim N(0,\\sigma_n^2)$.\n",
    " \\begin{equation}\n",
    "\t\t\\sigma_n^2 \\approx \\sum_{i=1}^{n-1}(1-\\lambda)\\lambda^{i-1}R_{n-i}^2,\n",
    "\\end{equation}\n",
    "\tgiving us $\\alpha_i = (1-\\lambda)\\lambda^{i-1}$, $i=1,2,\\dots,n-1$.\n",
    "    \n",
    "$\\alpha_i = \\alpha_{j}= (1-\\lambda)\\lambda^{j}$, $j=0,1,2,\\dots,n-2$\n",
    "\n",
    "## Question:\n",
    "Today is February 23, 2018. You are a portfolio risk manager who is assigned to analyze the market risk of a portfolio of 700 PLDT (TEL) shares. Assume that the one-day volatility of the stock follows an exponentially-weighted moving average model with parameter  $\\lambda$=0.65\n",
    " . Determine the portfolio's one-day 99% VaR.\n",
    " \n"
   ]
  },
  {
   "cell_type": "code",
   "execution_count": 4,
   "id": "ae4ff702",
   "metadata": {},
   "outputs": [],
   "source": [
    "def get_weights_df(df, d, ewma_par):\n",
    "    \"\"\" \n",
    "    appends weights series to df\n",
    "    \"\"\"\n",
    "    count_returns = len(df[\"close\"])-d # gives the number of non-NaN (or non-empty) returns\n",
    "    weight_lst = [(1-ewma_par)*(ewma_par**j) for j in range(count_returns)]\n",
    "    df[\"weight\"] = pd.Series(weight_lst)\n",
    "    return df"
   ]
  },
  {
   "cell_type": "code",
   "execution_count": 5,
   "id": "3a059769",
   "metadata": {},
   "outputs": [],
   "source": [
    "def d_day_alpha_percent_VaR_single_stock_delta_normal(df, d, N, alpha, ewma_par=None):\n",
    "    \n",
    "    \"\"\"Returns the d-day 100(alpha)% VaR of a single stock using Delta Normal Approach.\n",
    "    \n",
    "    Parameters\n",
    "    ----------\n",
    "    df : pandas.DataFrame\n",
    "        has two columns: (1) dt [str] and (2) closing price [float]\n",
    "        assumes the dates are arranged from newest to oldest, and the date today is the date on the first row  \n",
    "    d : int\n",
    "        value of d for the d-day VaR\n",
    "    N : int\n",
    "        number of shares for the sole stock\n",
    "    alpha : int\n",
    "        the value to be used in calculting the 100(alpha)% VaR (e.g. 0.99, 0.95)\n",
    "    ewma_par :float\n",
    "        the value of the lambda parameter in an EWMA model for the volatility of the stock\n",
    "        assumes the value is in the range (0,1)\n",
    "    \n",
    "    Returns\n",
    "    -------\n",
    "    float (2 decimal places)\n",
    "        d-day 100(alpha)% VaR of a single stock using Delta Normal Approach\n",
    "    \"\"\"\n",
    "    \n",
    "    # gets the most recent stock price\n",
    "    S_0 = df.loc[0, \"close\"]\n",
    "    \n",
    "    # creates a new column that shifts the prices d values up (or -d values down)\n",
    "    df[\"previous\"] = df[\"close\"].shift(-d)\n",
    "    # get the d-day returns\n",
    "    df[\"return\"] = df.apply(get_return, axis=1)\n",
    "    \n",
    "    #Case 1: if I will use EWMA\n",
    "    if (ewma_par != None) and (0 < ewma_par < 1):\n",
    "        df = get_weights_df(df, d, ewma_par)\n",
    "        variance = np.nansum(df[\"weight\"] * (df[\"return\"]**2))\n",
    "        sigma = np.sqrt(variance)\n",
    "    #Case 2: I'll use the normal VaR\n",
    "    else:\n",
    "        # standard deviation of your stock returns\n",
    "        sigma = df[\"return\"].std()\n",
    "    \n",
    "    quantile = NormalDist().inv_cdf(alpha)\n",
    "    var = N * S_0 * sigma * quantile\n",
    "    \n",
    "    return round(var, 2)"
   ]
  },
  {
   "cell_type": "code",
   "execution_count": 6,
   "id": "5ca1c553",
   "metadata": {},
   "outputs": [
    {
     "data": {
      "text/html": [
       "<div>\n",
       "<style scoped>\n",
       "    .dataframe tbody tr th:only-of-type {\n",
       "        vertical-align: middle;\n",
       "    }\n",
       "\n",
       "    .dataframe tbody tr th {\n",
       "        vertical-align: top;\n",
       "    }\n",
       "\n",
       "    .dataframe thead th {\n",
       "        text-align: right;\n",
       "    }\n",
       "</style>\n",
       "<table border=\"1\" class=\"dataframe\">\n",
       "  <thead>\n",
       "    <tr style=\"text-align: right;\">\n",
       "      <th></th>\n",
       "      <th>dt</th>\n",
       "      <th>close</th>\n",
       "    </tr>\n",
       "  </thead>\n",
       "  <tbody>\n",
       "    <tr>\n",
       "      <th>0</th>\n",
       "      <td>2/23/18</td>\n",
       "      <td>1488.74</td>\n",
       "    </tr>\n",
       "    <tr>\n",
       "      <th>1</th>\n",
       "      <td>2/22/18</td>\n",
       "      <td>1510.86</td>\n",
       "    </tr>\n",
       "    <tr>\n",
       "      <th>2</th>\n",
       "      <td>2/21/18</td>\n",
       "      <td>1513.72</td>\n",
       "    </tr>\n",
       "    <tr>\n",
       "      <th>3</th>\n",
       "      <td>2/20/18</td>\n",
       "      <td>1536.65</td>\n",
       "    </tr>\n",
       "    <tr>\n",
       "      <th>4</th>\n",
       "      <td>2/16/18</td>\n",
       "      <td>1476.37</td>\n",
       "    </tr>\n",
       "    <tr>\n",
       "      <th>...</th>\n",
       "      <td>...</td>\n",
       "      <td>...</td>\n",
       "    </tr>\n",
       "    <tr>\n",
       "      <th>243</th>\n",
       "      <td>3/2/17</td>\n",
       "      <td>1430.29</td>\n",
       "    </tr>\n",
       "    <tr>\n",
       "      <th>244</th>\n",
       "      <td>3/1/17</td>\n",
       "      <td>1408.94</td>\n",
       "    </tr>\n",
       "    <tr>\n",
       "      <th>245</th>\n",
       "      <td>2/28/17</td>\n",
       "      <td>1394.35</td>\n",
       "    </tr>\n",
       "    <tr>\n",
       "      <th>246</th>\n",
       "      <td>2/27/17</td>\n",
       "      <td>1374.93</td>\n",
       "    </tr>\n",
       "    <tr>\n",
       "      <th>247</th>\n",
       "      <td>2/24/17</td>\n",
       "      <td>1367.68</td>\n",
       "    </tr>\n",
       "  </tbody>\n",
       "</table>\n",
       "<p>248 rows × 2 columns</p>\n",
       "</div>"
      ],
      "text/plain": [
       "          dt    close\n",
       "0    2/23/18  1488.74\n",
       "1    2/22/18  1510.86\n",
       "2    2/21/18  1513.72\n",
       "3    2/20/18  1536.65\n",
       "4    2/16/18  1476.37\n",
       "..       ...      ...\n",
       "243   3/2/17  1430.29\n",
       "244   3/1/17  1408.94\n",
       "245  2/28/17  1394.35\n",
       "246  2/27/17  1374.93\n",
       "247  2/24/17  1367.68\n",
       "\n",
       "[248 rows x 2 columns]"
      ]
     },
     "execution_count": 6,
     "metadata": {},
     "output_type": "execute_result"
    }
   ],
   "source": [
    "# read the data\n",
    "TEL_df = pd.read_csv(\"https://raw.githubusercontent.com/ateneomathdept/math100.2_2021Sem1/main/data/lectures/TEL_2018.csv\") \n",
    "TEL_df"
   ]
  },
  {
   "cell_type": "code",
   "execution_count": 7,
   "id": "1d9fc454",
   "metadata": {},
   "outputs": [
    {
     "data": {
      "text/html": [
       "<div>\n",
       "<style scoped>\n",
       "    .dataframe tbody tr th:only-of-type {\n",
       "        vertical-align: middle;\n",
       "    }\n",
       "\n",
       "    .dataframe tbody tr th {\n",
       "        vertical-align: top;\n",
       "    }\n",
       "\n",
       "    .dataframe thead th {\n",
       "        text-align: right;\n",
       "    }\n",
       "</style>\n",
       "<table border=\"1\" class=\"dataframe\">\n",
       "  <thead>\n",
       "    <tr style=\"text-align: right;\">\n",
       "      <th></th>\n",
       "      <th>dt</th>\n",
       "      <th>close</th>\n",
       "      <th>weight</th>\n",
       "    </tr>\n",
       "  </thead>\n",
       "  <tbody>\n",
       "    <tr>\n",
       "      <th>0</th>\n",
       "      <td>2/23/18</td>\n",
       "      <td>1488.74</td>\n",
       "      <td>3.500000e-01</td>\n",
       "    </tr>\n",
       "    <tr>\n",
       "      <th>1</th>\n",
       "      <td>2/22/18</td>\n",
       "      <td>1510.86</td>\n",
       "      <td>2.275000e-01</td>\n",
       "    </tr>\n",
       "    <tr>\n",
       "      <th>2</th>\n",
       "      <td>2/21/18</td>\n",
       "      <td>1513.72</td>\n",
       "      <td>1.478750e-01</td>\n",
       "    </tr>\n",
       "    <tr>\n",
       "      <th>3</th>\n",
       "      <td>2/20/18</td>\n",
       "      <td>1536.65</td>\n",
       "      <td>9.611875e-02</td>\n",
       "    </tr>\n",
       "    <tr>\n",
       "      <th>4</th>\n",
       "      <td>2/16/18</td>\n",
       "      <td>1476.37</td>\n",
       "      <td>6.247719e-02</td>\n",
       "    </tr>\n",
       "    <tr>\n",
       "      <th>...</th>\n",
       "      <td>...</td>\n",
       "      <td>...</td>\n",
       "      <td>...</td>\n",
       "    </tr>\n",
       "    <tr>\n",
       "      <th>243</th>\n",
       "      <td>3/2/17</td>\n",
       "      <td>1430.29</td>\n",
       "      <td>1.207852e-46</td>\n",
       "    </tr>\n",
       "    <tr>\n",
       "      <th>244</th>\n",
       "      <td>3/1/17</td>\n",
       "      <td>1408.94</td>\n",
       "      <td>7.851038e-47</td>\n",
       "    </tr>\n",
       "    <tr>\n",
       "      <th>245</th>\n",
       "      <td>2/28/17</td>\n",
       "      <td>1394.35</td>\n",
       "      <td>5.103175e-47</td>\n",
       "    </tr>\n",
       "    <tr>\n",
       "      <th>246</th>\n",
       "      <td>2/27/17</td>\n",
       "      <td>1374.93</td>\n",
       "      <td>3.317063e-47</td>\n",
       "    </tr>\n",
       "    <tr>\n",
       "      <th>247</th>\n",
       "      <td>2/24/17</td>\n",
       "      <td>1367.68</td>\n",
       "      <td>NaN</td>\n",
       "    </tr>\n",
       "  </tbody>\n",
       "</table>\n",
       "<p>248 rows × 3 columns</p>\n",
       "</div>"
      ],
      "text/plain": [
       "          dt    close        weight\n",
       "0    2/23/18  1488.74  3.500000e-01\n",
       "1    2/22/18  1510.86  2.275000e-01\n",
       "2    2/21/18  1513.72  1.478750e-01\n",
       "3    2/20/18  1536.65  9.611875e-02\n",
       "4    2/16/18  1476.37  6.247719e-02\n",
       "..       ...      ...           ...\n",
       "243   3/2/17  1430.29  1.207852e-46\n",
       "244   3/1/17  1408.94  7.851038e-47\n",
       "245  2/28/17  1394.35  5.103175e-47\n",
       "246  2/27/17  1374.93  3.317063e-47\n",
       "247  2/24/17  1367.68           NaN\n",
       "\n",
       "[248 rows x 3 columns]"
      ]
     },
     "execution_count": 7,
     "metadata": {},
     "output_type": "execute_result"
    }
   ],
   "source": [
    "get_weights_df(TEL_df, d=1, ewma_par=0.65)"
   ]
  },
  {
   "cell_type": "code",
   "execution_count": 8,
   "id": "60b662fb",
   "metadata": {},
   "outputs": [
    {
     "data": {
      "text/plain": [
       "41212.93"
      ]
     },
     "execution_count": 8,
     "metadata": {},
     "output_type": "execute_result"
    }
   ],
   "source": [
    "d_day_alpha_percent_VaR_single_stock_delta_normal(df=TEL_df, d=1, N=700, alpha=0.99, ewma_par=0.65)"
   ]
  },
  {
   "cell_type": "code",
   "execution_count": 9,
   "id": "1de0d8e1",
   "metadata": {},
   "outputs": [
    {
     "data": {
      "text/plain": [
       "47587.79"
      ]
     },
     "execution_count": 9,
     "metadata": {},
     "output_type": "execute_result"
    }
   ],
   "source": [
    "d_day_alpha_percent_VaR_single_stock_delta_normal(df=TEL_df, d=1, N=700, alpha=0.99)"
   ]
  },
  {
   "cell_type": "code",
   "execution_count": 10,
   "id": "db14a4fa",
   "metadata": {},
   "outputs": [
    {
     "data": {
      "text/plain": [
       "73320.42"
      ]
     },
     "execution_count": 10,
     "metadata": {},
     "output_type": "execute_result"
    }
   ],
   "source": [
    "d_day_alpha_percent_VaR_single_stock_delta_normal(df=TEL_df, d=10, N=700, alpha=0.99, ewma_par=0.65)"
   ]
  },
  {
   "cell_type": "code",
   "execution_count": null,
   "id": "2e6ae9b5",
   "metadata": {},
   "outputs": [],
   "source": []
  }
 ],
 "metadata": {
  "kernelspec": {
   "display_name": "Python 3",
   "language": "python",
   "name": "python3"
  },
  "language_info": {
   "codemirror_mode": {
    "name": "ipython",
    "version": 3
   },
   "file_extension": ".py",
   "mimetype": "text/x-python",
   "name": "python",
   "nbconvert_exporter": "python",
   "pygments_lexer": "ipython3",
   "version": "3.8.5"
  }
 },
 "nbformat": 4,
 "nbformat_minor": 5
}
