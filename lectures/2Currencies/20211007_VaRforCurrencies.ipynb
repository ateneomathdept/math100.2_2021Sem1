{
 "cells": [
  {
   "cell_type": "markdown",
   "id": "a6a04ef9",
   "metadata": {},
   "source": [
    "# Value-at-Risk for Currencies\n",
    "\n",
    "### Lecture Notes by Jakov Ivan S. Dumbrique (jdumbrique@ateneo.edu)\n",
    "\n",
    "MATH 100.2: Topics in Financial Mathematics II \\\n",
    "First Semester, S.Y. 2021-2022 \\\n",
    "Ateneo de Manila University"
   ]
  },
  {
   "cell_type": "code",
   "execution_count": 1,
   "id": "a718ac3a",
   "metadata": {},
   "outputs": [],
   "source": [
    "import numpy as np # Numerical Computing\n",
    "import pandas as pd # Data wrangling\n",
    "import matplotlib.pyplot as plt # Plotting\n",
    "from statistics import NormalDist # statistical analysis\n",
    "\n",
    "%matplotlib inline"
   ]
  },
  {
   "cell_type": "markdown",
   "id": "42645a7b",
   "metadata": {},
   "source": [
    "## Helper functions from previous programming sessions"
   ]
  },
  {
   "cell_type": "code",
   "execution_count": 2,
   "id": "af0801f7",
   "metadata": {},
   "outputs": [],
   "source": [
    "def get_return(df, d):\n",
    "    \"\"\"\n",
    "    df is the original df\n",
    "    \n",
    "    appends returns series to df\n",
    "    \"\"\"\n",
    "    df[\"previous\"] = df[\"close\"].shift(-d)\n",
    "    df[\"return\"] = np.log(df[\"close\"]/df[\"previous\"])\n",
    "    return df "
   ]
  },
  {
   "cell_type": "code",
   "execution_count": 3,
   "id": "ae4ff702",
   "metadata": {},
   "outputs": [],
   "source": [
    "def get_ewma_weights_df(df, d, ewma_par):\n",
    "    \"\"\" \n",
    "    appends weights series to df\n",
    "    \"\"\"\n",
    "    count_returns = len(df[\"close\"])-d # gives the number of non-NaN (or non-empty) returns\n",
    "    weight_lst = [(1-ewma_par)*(ewma_par**j) for j in range(count_returns)]\n",
    "    df[\"weight\"] = pd.Series(weight_lst)\n",
    "    return df"
   ]
  },
  {
   "cell_type": "code",
   "execution_count": 4,
   "id": "776cadf0",
   "metadata": {},
   "outputs": [],
   "source": [
    "def get_change_in_value_df(df, N):\n",
    "    \"\"\"\n",
    "    df is the output of get_returns_df \n",
    "    \n",
    "    appends change in portfolio value series to df\n",
    "    \"\"\"\n",
    "    S0 = df.loc[0, \"close\"]\n",
    "    df[\"change_in_value\"] = N * S0 * df[\"return\"]\n",
    "    return df"
   ]
  },
  {
   "cell_type": "code",
   "execution_count": 5,
   "id": "4d61f106",
   "metadata": {},
   "outputs": [],
   "source": [
    "def get_kth_percentile_discrete(df, d, alpha):\n",
    "    \"\"\"\n",
    "    this returns the (1-alpha)th percentile of the ordered array of historical changes in portfolio values\n",
    "    \"\"\"\n",
    "    M = len(df)-d\n",
    "    k = int(np.floor((1-alpha)*M))\n",
    "    var = abs(df[\"change_in_value\"].sort_values(ignore_index=True)[k-1])\n",
    "    \n",
    "    return var"
   ]
  },
  {
   "cell_type": "code",
   "execution_count": 6,
   "id": "7605b1fd",
   "metadata": {},
   "outputs": [],
   "source": [
    "def get_brw_weights_df(df, d, decay_par):\n",
    "    \"\"\" \n",
    "    appends brw weights series to df\n",
    "    \"\"\"\n",
    "    count_returns = len(df[\"close\"])-d # M\n",
    "    weight_lst = [(1-decay_par)*(decay_par**j)/(1-decay_par**count_returns) for j in range(count_returns)]\n",
    "    df[\"weight\"] = pd.Series(weight_lst)\n",
    "    return df"
   ]
  },
  {
   "cell_type": "code",
   "execution_count": 7,
   "id": "d242a51f",
   "metadata": {},
   "outputs": [],
   "source": [
    "def get_ecdf(df):\n",
    "    \"\"\"\n",
    "        assumes the input df have already passed through get_change_in_value_df and get_brw_weights_df\n",
    "    \"\"\"\n",
    "    df = df.sort_values(by=\"change_in_value\")\n",
    "    df[\"ecdf\"] = df[\"weight\"].cumsum()\n",
    "    \n",
    "    return df"
   ]
  },
  {
   "cell_type": "markdown",
   "id": "1c454492",
   "metadata": {},
   "source": [
    "## Main Functions for DN, HS, BRW Approaches for a Single-Asset Portfolio"
   ]
  },
  {
   "cell_type": "code",
   "execution_count": 8,
   "id": "3a059769",
   "metadata": {},
   "outputs": [],
   "source": [
    "def d_day_alpha_percent_VaR_single_stock_delta_normal(df, d, N, alpha, ewma_par=None):\n",
    "    \n",
    "    \"\"\"Returns the d-day 100(alpha)% VaR of a single stock using Delta Normal Approach.\n",
    "    \n",
    "    Parameters\n",
    "    ----------\n",
    "    df : pandas.DataFrame\n",
    "        has two columns: (1) dt [str] and (2) closing price [float]\n",
    "        assumes the dates are arranged from newest to oldest, and the date today is the date on the first row  \n",
    "    d : int\n",
    "        value of d for the d-day VaR\n",
    "    N : int\n",
    "        number of shares for the sole stock\n",
    "    alpha : int\n",
    "        the value to be used in calculting the 100(alpha)% VaR (e.g. 0.99, 0.95)\n",
    "    ewma_par :float\n",
    "        the value of the lambda parameter in an EWMA model for the volatility of the stock\n",
    "        assumes the value is in the range (0,1)\n",
    "    \n",
    "    Returns\n",
    "    -------\n",
    "    float (2 decimal places)\n",
    "        d-day 100(alpha)% VaR of a single stock using Delta Normal Approach\n",
    "    \"\"\"\n",
    "    \n",
    "    # gets the most recent stock price\n",
    "    S_0 = df.loc[0, \"close\"]\n",
    "    \n",
    "    # append returns series to df\n",
    "    df = get_return(df, d)\n",
    "    \n",
    "    #Case 1: if I will use EWMA\n",
    "    if (ewma_par != None) and (0 < ewma_par < 1):\n",
    "        df = get_ewma_weights_df(df, d, ewma_par)\n",
    "        variance = np.nansum(df[\"weight\"] * (df[\"return\"]**2))\n",
    "        sigma = np.sqrt(variance)\n",
    "    #Case 2: I'll use the normal VaR\n",
    "    else:\n",
    "        # standard deviation of your stock returns\n",
    "        sigma = df[\"return\"].std()\n",
    "    \n",
    "    quantile = NormalDist().inv_cdf(alpha)\n",
    "    var = N * S_0 * sigma * quantile\n",
    "    \n",
    "    return round(var, 2)"
   ]
  },
  {
   "cell_type": "code",
   "execution_count": 9,
   "id": "93fdc9a5",
   "metadata": {},
   "outputs": [],
   "source": [
    "def d_day_alpha_percent_VaR_single_stock_historical(\n",
    "    df, N, d, alpha\n",
    "):\n",
    "    \"\"\"Returns the d-day 100(alpha)% VaR of a single stock using Historical Simulation Approach.\n",
    "    \n",
    "    Parameters\n",
    "    ----------\n",
    "    df : pandas.DataFrame\n",
    "        has two columns: (1) dt [str] and (2) closing price [float]\n",
    "        assumes the dates are arranged from newest to oldest, and the date today is the date on the first row  \n",
    "    N : int\n",
    "        number of shares for the sole stock\n",
    "    d : int\n",
    "        the value to be used in calculating the d-day VaR (e.g. 1-day, 5-day)\n",
    "    alpha : float\n",
    "        the value to be used in calculting the 100(alpha)% VaR (e.g. 0.99, 0.95)\n",
    "    \n",
    "    Returns\n",
    "    -------\n",
    "    float (2 decimal places)\n",
    "        d-day 100(alpha)% VaR of a single stock using Historical Simulation Approach\n",
    "    \"\"\"\n",
    "    \n",
    "    # step 1: generate your historical returns\n",
    "    df = get_return(df, d)\n",
    "    # Step 2: get your historical changes in portfolio values\n",
    "    df = get_change_in_value_df(df, N)\n",
    "    # Step 3: get the (1-p/100)th percentile of the ordered array of historical changes in portfolio values\n",
    "    var = get_kth_percentile_discrete(df, d, alpha)\n",
    "    \n",
    "    return round(var, 2)"
   ]
  },
  {
   "cell_type": "code",
   "execution_count": 10,
   "id": "547e07f5",
   "metadata": {},
   "outputs": [],
   "source": [
    "def d_day_alpha_percent_VaR_single_stock_brw(\n",
    "    df, N, d, alpha, decay_par\n",
    "):\n",
    "    \"\"\"Returns the d-day 100*alpha% VaR of a single stock using BRW Approach.\n",
    "    \n",
    "    Parameters\n",
    "    ----------\n",
    "    df : pandas.DataFrame\n",
    "        has two columns: (1) dt [str] and (2) closing price [float]\n",
    "        assumes the dates are arranged from newest to oldest, and the date today is the date on the first row  \n",
    "    N : int\n",
    "        number of shares for the sole stock\n",
    "    d : int\n",
    "        the value to be used in calculating the d-day VaR (e.g. 1-day, 5-day)\n",
    "    alpha : float\n",
    "        the value to be used in calculting the 100(alpha)% VaR (e.g. 0.99, 0.95)\n",
    "    decay_par : float\n",
    "        the value of the BRW decay parameter\n",
    "    \n",
    "    Returns\n",
    "    -------\n",
    "    float (2 decimal places)\n",
    "       d-day 100*alpha% VaR of a single stock using BRW Approach.\n",
    "    \"\"\"\n",
    "    # STEP 1: ASSIGNMENT OF WEIGHTS\n",
    "    # step 1.1: generate your historical returns\n",
    "    df = get_return(df, d)\n",
    "    # Step 1.2: get your historical changes in portfolio values\n",
    "    df = get_change_in_value_df(df, N)\n",
    "    # Step 1.3: generate the weights\n",
    "    df = get_brw_weights_df(df, d, decay_par)\n",
    "    \n",
    "    # STEP 2: CONSTRUCT THE ECDF\n",
    "    df = get_ecdf(df)\n",
    "    \n",
    "    # STEP 3: CALCULATE THE VAR\n",
    "    var = abs(np.interp(1-alpha, df[\"ecdf\"], df[\"change_in_value\"]))\n",
    "    \n",
    "    return round(var, 2)"
   ]
  },
  {
   "cell_type": "markdown",
   "id": "3e7f240e",
   "metadata": {},
   "source": [
    "## Question:\n",
    "Today is October 7, 2019. You have a long position on a portfolio of 20,000 US dollars. Assume that the one-day volatility of the stock follows an exponentially-weighted moving average model with parameter  $\\lambda$=0.65. Also, suppose that the decay paramater for the BRW approach is 0.76. Determine the portfolio's one-day 99% VaR using:\n",
    "1. DN with no EWMA\n",
    "2. DN with EWMA\n",
    "3. HS\n",
    "4. BRW\n",
    " \n"
   ]
  },
  {
   "cell_type": "code",
   "execution_count": 11,
   "id": "a47f2e04",
   "metadata": {},
   "outputs": [
    {
     "data": {
      "text/html": [
       "<div>\n",
       "<style scoped>\n",
       "    .dataframe tbody tr th:only-of-type {\n",
       "        vertical-align: middle;\n",
       "    }\n",
       "\n",
       "    .dataframe tbody tr th {\n",
       "        vertical-align: top;\n",
       "    }\n",
       "\n",
       "    .dataframe thead th {\n",
       "        text-align: right;\n",
       "    }\n",
       "</style>\n",
       "<table border=\"1\" class=\"dataframe\">\n",
       "  <thead>\n",
       "    <tr style=\"text-align: right;\">\n",
       "      <th></th>\n",
       "      <th>Date</th>\n",
       "      <th>close</th>\n",
       "    </tr>\n",
       "  </thead>\n",
       "  <tbody>\n",
       "    <tr>\n",
       "      <th>0</th>\n",
       "      <td>10/7/19</td>\n",
       "      <td>51.908</td>\n",
       "    </tr>\n",
       "    <tr>\n",
       "      <th>1</th>\n",
       "      <td>10/4/19</td>\n",
       "      <td>51.695</td>\n",
       "    </tr>\n",
       "    <tr>\n",
       "      <th>2</th>\n",
       "      <td>10/3/19</td>\n",
       "      <td>51.766</td>\n",
       "    </tr>\n",
       "    <tr>\n",
       "      <th>3</th>\n",
       "      <td>10/2/19</td>\n",
       "      <td>51.996</td>\n",
       "    </tr>\n",
       "    <tr>\n",
       "      <th>4</th>\n",
       "      <td>10/1/19</td>\n",
       "      <td>51.986</td>\n",
       "    </tr>\n",
       "    <tr>\n",
       "      <th>...</th>\n",
       "      <td>...</td>\n",
       "      <td>...</td>\n",
       "    </tr>\n",
       "    <tr>\n",
       "      <th>257</th>\n",
       "      <td>10/11/18</td>\n",
       "      <td>54.070</td>\n",
       "    </tr>\n",
       "    <tr>\n",
       "      <th>258</th>\n",
       "      <td>10/10/18</td>\n",
       "      <td>54.146</td>\n",
       "    </tr>\n",
       "    <tr>\n",
       "      <th>259</th>\n",
       "      <td>10/9/18</td>\n",
       "      <td>54.176</td>\n",
       "    </tr>\n",
       "    <tr>\n",
       "      <th>260</th>\n",
       "      <td>10/8/18</td>\n",
       "      <td>54.143</td>\n",
       "    </tr>\n",
       "    <tr>\n",
       "      <th>261</th>\n",
       "      <td>10/5/18</td>\n",
       "      <td>54.221</td>\n",
       "    </tr>\n",
       "  </tbody>\n",
       "</table>\n",
       "<p>262 rows × 2 columns</p>\n",
       "</div>"
      ],
      "text/plain": [
       "         Date   close\n",
       "0     10/7/19  51.908\n",
       "1     10/4/19  51.695\n",
       "2     10/3/19  51.766\n",
       "3     10/2/19  51.996\n",
       "4     10/1/19  51.986\n",
       "..        ...     ...\n",
       "257  10/11/18  54.070\n",
       "258  10/10/18  54.146\n",
       "259   10/9/18  54.176\n",
       "260   10/8/18  54.143\n",
       "261   10/5/18  54.221\n",
       "\n",
       "[262 rows x 2 columns]"
      ]
     },
     "execution_count": 11,
     "metadata": {},
     "output_type": "execute_result"
    }
   ],
   "source": [
    "USD_df = pd.read_csv(\"https://raw.githubusercontent.com/ateneomathdept/math100.2_2021Sem1/main/data/lectures/USDPHP.csv\")\n",
    "USD_df = USD_df.rename({'Mid':'close'}, axis=1)\n",
    "USD_df"
   ]
  },
  {
   "cell_type": "code",
   "execution_count": 12,
   "id": "94a2d576",
   "metadata": {},
   "outputs": [
    {
     "data": {
      "text/plain": [
       "8560.99"
      ]
     },
     "execution_count": 12,
     "metadata": {},
     "output_type": "execute_result"
    }
   ],
   "source": [
    "d_day_alpha_percent_VaR_single_stock_delta_normal(df=USD_df, d=1, N=20000, alpha=0.99, ewma_par=None)"
   ]
  },
  {
   "cell_type": "code",
   "execution_count": 13,
   "id": "6e7129fb",
   "metadata": {},
   "outputs": [
    {
     "data": {
      "text/plain": [
       "8030.37"
      ]
     },
     "execution_count": 13,
     "metadata": {},
     "output_type": "execute_result"
    }
   ],
   "source": [
    "d_day_alpha_percent_VaR_single_stock_delta_normal(df=USD_df, d=1, N=20000, alpha=0.99, ewma_par=0.65)"
   ]
  },
  {
   "cell_type": "code",
   "execution_count": 14,
   "id": "0ce881b3",
   "metadata": {},
   "outputs": [
    {
     "data": {
      "text/plain": [
       "9211.84"
      ]
     },
     "execution_count": 14,
     "metadata": {},
     "output_type": "execute_result"
    }
   ],
   "source": [
    "d_day_alpha_percent_VaR_single_stock_historical(df=USD_df, N=20000, d=1, alpha=0.99)"
   ]
  },
  {
   "cell_type": "code",
   "execution_count": 15,
   "id": "0984fde1",
   "metadata": {},
   "outputs": [
    {
     "data": {
      "text/plain": [
       "4626.62"
      ]
     },
     "execution_count": 15,
     "metadata": {},
     "output_type": "execute_result"
    }
   ],
   "source": [
    " d_day_alpha_percent_VaR_single_stock_brw(df=USD_df, N=20000, d=1, alpha=0.99, decay_par=0.4)"
   ]
  },
  {
   "cell_type": "code",
   "execution_count": null,
   "id": "1531e028",
   "metadata": {},
   "outputs": [],
   "source": []
  }
 ],
 "metadata": {
  "kernelspec": {
   "display_name": "Python 3",
   "language": "python",
   "name": "python3"
  },
  "language_info": {
   "codemirror_mode": {
    "name": "ipython",
    "version": 3
   },
   "file_extension": ".py",
   "mimetype": "text/x-python",
   "name": "python",
   "nbconvert_exporter": "python",
   "pygments_lexer": "ipython3",
   "version": "3.8.5"
  }
 },
 "nbformat": 4,
 "nbformat_minor": 5
}
