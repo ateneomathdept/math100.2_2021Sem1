{
 "cells": [
  {
   "cell_type": "markdown",
   "id": "alpha-weather",
   "metadata": {},
   "source": [
    "# Python Lecture 1: On Numbers, Variables, and Functions\n",
    "\n",
    "### Lecture Notes by Jakov Ivan S. Dumbrique (jdumbrique@ateneo.edu)\n",
    "\n",
    "MATH 100.2: Topics in Financial Mathematics II \\\n",
    "First Semester, S.Y. 2021-2022 \\\n",
    "Ateneo de Manila University"
   ]
  },
  {
   "cell_type": "markdown",
   "id": "corresponding-least",
   "metadata": {},
   "source": [
    "Today, we will learn four topics in Python:\n",
    "\n",
    "0. How to put comments in your code\n",
    "1. Numbers\n",
    "2. Variables\n",
    "3. Functions"
   ]
  },
  {
   "cell_type": "markdown",
   "id": "permanent-nevada",
   "metadata": {},
   "source": [
    "## Section 0: Comments in Python\n",
    "\n",
    "While your machine's Python compiler will skip comments when it encounters comments, writing comments in your code is still important in order to make your code readable by humans (and your future self)."
   ]
  },
  {
   "cell_type": "code",
   "execution_count": null,
   "id": "white-multimedia",
   "metadata": {},
   "outputs": [],
   "source": [
    "# Single line comments start with a number symbol.\n",
    "\"\"\"\n",
    "    Multiline strings can be written using three \"s, and are often used as documentation.\n",
    "\"\"\"\n",
    "    "
   ]
  },
  {
   "cell_type": "markdown",
   "id": "inside-check",
   "metadata": {},
   "source": [
    "## Section 1: Numbers\n",
    "\n",
    "Numbers are a primitive datatype in Python. Numbers can either be integers (int) or float."
   ]
  },
  {
   "cell_type": "code",
   "execution_count": 12,
   "id": "amended-conditions",
   "metadata": {},
   "outputs": [
    {
     "data": {
      "text/plain": [
       "8"
      ]
     },
     "execution_count": 12,
     "metadata": {},
     "output_type": "execute_result"
    }
   ],
   "source": [
    "# You have numbers\n",
    "3  # => 3\n",
    "\n",
    "# Math operations are what you would expect\n",
    "1 + 1   # => 2\n",
    "8 - 1   # => 7\n",
    "10 * 2  # => 20\n",
    "35 / 5  # => 7.0\n",
    "\n",
    "# Integer division rounds down for both positive and negative numbers.\n",
    "5 // 3       # => 1\n",
    "-5 // 3      # => -2\n",
    "5.0 // 3.0   # => 1.0 # works on floats too\n",
    "-5.0 // 3.0  # => -2.0\n",
    "\n",
    "# The result of division is always a float\n",
    "10.0 / 3  # => 3.3333333333333335\n",
    "\n",
    "# Modulo operation\n",
    "7 % 3   # => 1\n",
    "\n",
    "# Exponentiation (x**y, x to the yth power)\n",
    "2**3  # => 8\n",
    "\n",
    "# Enforce precedence with parentheses\n",
    "1 + 3 * 2    # => 7\n",
    "(1 + 3) * 2  # => 8"
   ]
  },
  {
   "cell_type": "code",
   "execution_count": 22,
   "id": "contained-street",
   "metadata": {},
   "outputs": [
    {
     "data": {
      "text/plain": [
       "True"
      ]
     },
     "execution_count": 22,
     "metadata": {},
     "output_type": "execute_result"
    }
   ],
   "source": [
    "# Comparison operators\n",
    "\n",
    "# to check equality\n",
    "1 == 1 # => True\n",
    "1 == 1.0 # => True\n",
    "\n",
    "# to check inequality\n",
    "(3 - 2) != 0 # => True\n",
    "\n",
    "# other comparison operators\n",
    "(3 - 2) > 1 # => False\n",
    "(3 - 2) >= 1 # => True\n",
    "(3 ** 2) + (4 ** 2) < 5 ** 2 # => False\n",
    "(3 ** 2) + (4 ** 2) <= 5 ** 2 # => True"
   ]
  },
  {
   "cell_type": "markdown",
   "id": "encouraging-extra",
   "metadata": {},
   "source": [
    "<h3 style='color:blue'>Definition: Simple Interest</h3>\n",
    "\n",
    "Suppose that an amount $P$ is invested for $T$ years at an interest rate of $r$ per annum (p.a.). If the interest rate is a **simple rate**, then the terminal value of the investment is\n",
    "\\begin{align}\n",
    "    A &= P + \\underbrace{Pr + Pr + \\cdots + Pr}_{T \\text{ years}} \\nonumber \\\\\n",
    "    &= P(1 + \\underbrace{r + \\cdots + r}_{T \\text{ years}}) \\nonumber \\\\\n",
    "    &= P(1+rT). \\label{Simple Interest}\n",
    "\\end{align}"
   ]
  },
  {
   "cell_type": "markdown",
   "id": "white-carroll",
   "metadata": {},
   "source": [
    "<h3 style='color:green'>Example 1</h3> \n",
    "\n",
    "Suppose that $\\$408$ is deposited in a newly created savings account that pays a simple interest of $3.435\\%$ per annum. If no deposits or withdrawals are made on the account since the aforementioned transaction, how much is withdrawn if the account is closed and emptied in $6$ months?\n",
    "\n",
    "$A = \\$408\\left[1+ 3.435\\% \\left(\\dfrac{6}{12}\\right)\\right] \\approx \\boxed{\\$415.01}.$"
   ]
  },
  {
   "cell_type": "code",
   "execution_count": 14,
   "id": "bibliographic-ordinance",
   "metadata": {},
   "outputs": [
    {
     "data": {
      "text/plain": [
       "415.00739999999996"
      ]
     },
     "execution_count": 14,
     "metadata": {},
     "output_type": "execute_result"
    }
   ],
   "source": [
    "408*(1+0.03435*(6/12))"
   ]
  },
  {
   "cell_type": "markdown",
   "id": "common-sally",
   "metadata": {},
   "source": [
    "## Section 2: Variables\n",
    "\n",
    "Variables provide a way to associate names with Python objects. We use variables in order to reuse names instead of writing explicitly the values repeatedly. \n",
    "\n",
    "We use an equal sign (=) to assign a value to a variable."
   ]
  },
  {
   "cell_type": "code",
   "execution_count": 23,
   "id": "accredited-chapter",
   "metadata": {},
   "outputs": [],
   "source": [
    "pi = 3.14159"
   ]
  },
  {
   "cell_type": "code",
   "execution_count": 29,
   "id": "simplified-malawi",
   "metadata": {},
   "outputs": [
    {
     "data": {
      "text/plain": [
       "3.14159"
      ]
     },
     "execution_count": 29,
     "metadata": {},
     "output_type": "execute_result"
    }
   ],
   "source": [
    "pi"
   ]
  },
  {
   "cell_type": "markdown",
   "id": "imposed-exposure",
   "metadata": {},
   "source": [
    "Variable names\n",
    "1. Can contain uppercase and lowercase letters, digits (but they cannot start with a digit), and the special character _\n",
    "2. Are case-sensitive! (pi is different from Pi)\n",
    "3. Cannot be [Python reserved words (or keywords)](https://www.w3schools.com/python/python_ref_keywords.asp)\n"
   ]
  },
  {
   "cell_type": "markdown",
   "id": "adverse-dominican",
   "metadata": {},
   "source": [
    "<h3 style='color:green'>Example 2: Assign variables to Example 1</h3> \n",
    "\n",
    "Suppose that $\\$408$ is deposited in a newly created savings account that pays a simple interest of $3.435\\%$ per annum. If no deposits or withdrawals are made on the account since the aforementioned transaction, how much is withdrawn if the account is closed and emptied in $6$ months?"
   ]
  },
  {
   "cell_type": "code",
   "execution_count": 25,
   "id": "flying-pacific",
   "metadata": {},
   "outputs": [
    {
     "data": {
      "text/plain": [
       "415.00739999999996"
      ]
     },
     "execution_count": 25,
     "metadata": {},
     "output_type": "execute_result"
    }
   ],
   "source": [
    "P = 408\n",
    "r = 0.03435\n",
    "T = 6/12\n",
    "\n",
    "P * (1 + r*T)"
   ]
  },
  {
   "cell_type": "markdown",
   "id": "retired-dover",
   "metadata": {},
   "source": [
    "## Section 3: Functions\n",
    "\n",
    "1. if you will reuse a piece of code, you should write a function for it\n",
    "2. functions are not run in a program until they are “called” or “invoked” in a program\n",
    "3. characteristics of a function:\n",
    "    - has a name\n",
    "    - has parameters (0 or more)\n",
    "    - has a docstring (optional but recommended)\n",
    "    - has a body\n",
    "    - returns something"
   ]
  },
  {
   "cell_type": "markdown",
   "id": "northern-drink",
   "metadata": {},
   "source": [
    "<h3 style='color:green'>Example 3: Write a function for Example 2</h3> \n",
    "\n",
    "Suppose that $\\$408$ is deposited in a newly created savings account that pays a simple interest of $3.435\\%$ per annum. If no deposits or withdrawals are made on the account since the aforementioned transaction, how much is withdrawn if the account is closed and emptied in $6$ months?"
   ]
  },
  {
   "cell_type": "code",
   "execution_count": 34,
   "id": "prompt-heart",
   "metadata": {},
   "outputs": [],
   "source": [
    "def get_future_value_simple(P, r, T):\n",
    "    \"\"\"\n",
    "    Input: principal P, simple interest rate r p.a., investment time period T in years\n",
    "    Returns the future value of a principal P invested for T years at a simple rate r\n",
    "    \"\"\"\n",
    "    return P * (1 + r*T)"
   ]
  },
  {
   "cell_type": "code",
   "execution_count": 28,
   "id": "bound-february",
   "metadata": {},
   "outputs": [
    {
     "data": {
      "text/plain": [
       "415.00739999999996"
      ]
     },
     "execution_count": 28,
     "metadata": {},
     "output_type": "execute_result"
    }
   ],
   "source": [
    "get_future_value_simple(408, 0.03435, 0.5)"
   ]
  },
  {
   "cell_type": "code",
   "execution_count": 30,
   "id": "amazing-radio",
   "metadata": {},
   "outputs": [
    {
     "data": {
      "text/plain": [
       "415.00739999999996"
      ]
     },
     "execution_count": 30,
     "metadata": {},
     "output_type": "execute_result"
    }
   ],
   "source": [
    "get_future_value_simple(P=408, r=0.03435, T=0.5)"
   ]
  },
  {
   "cell_type": "code",
   "execution_count": 27,
   "id": "useful-invasion",
   "metadata": {},
   "outputs": [
    {
     "data": {
      "text/plain": [
       "415.00739999999996"
      ]
     },
     "execution_count": 27,
     "metadata": {},
     "output_type": "execute_result"
    }
   ],
   "source": [
    "P = 408\n",
    "r = 0.03435\n",
    "T = 6/12\n",
    "get_future_value_simple(P, r, T)"
   ]
  },
  {
   "cell_type": "markdown",
   "id": "closed-drama",
   "metadata": {},
   "source": [
    "<span style='color:red'>Tip:</span>  use functions if you will reuse a chunck of code. Think of a function as a black box that hides tedious coding details.\n"
   ]
  },
  {
   "cell_type": "markdown",
   "id": "mental-military",
   "metadata": {},
   "source": [
    "<h3 style='color:green'>Example 4: Reusing Functions</h3> \n",
    "\n",
    "Suppose you invest $\\$500$ in an account that pays a simple interest of $5.75\\%$ p.a. How much will it be worth in $1.5$ years? $20$ years?"
   ]
  },
  {
   "cell_type": "code",
   "execution_count": 31,
   "id": "minus-latter",
   "metadata": {},
   "outputs": [
    {
     "data": {
      "text/plain": [
       "543.125"
      ]
     },
     "execution_count": 31,
     "metadata": {},
     "output_type": "execute_result"
    }
   ],
   "source": [
    "get_future_value_simple(P=500, r=0.0575, T=1.5)"
   ]
  },
  {
   "cell_type": "code",
   "execution_count": 32,
   "id": "nervous-young",
   "metadata": {},
   "outputs": [
    {
     "data": {
      "text/plain": [
       "1075.0000000000002"
      ]
     },
     "execution_count": 32,
     "metadata": {},
     "output_type": "execute_result"
    }
   ],
   "source": [
    "get_future_value_simple(P=500, r=0.0575, T=20)"
   ]
  },
  {
   "cell_type": "markdown",
   "id": "loved-knitting",
   "metadata": {},
   "source": [
    "<h3 style='color:blue'>Definition: Compound Interest</h3>\n",
    "\n",
    "Suppose that an amount $P$ is invested for $T$ years at an interest rate of $r$ per annum (p.a.). If the interest rate is **compounded** $\\boldsymbol{m}$ **times a year**, then the terminal value of the investment is\n",
    "\\begin{align}\n",
    "    A = P\\left(1+\\dfrac{r}{m}\\right)^{mT}. \\label{Compounding Interest}\n",
    "\\end{align}"
   ]
  },
  {
   "cell_type": "markdown",
   "id": "commercial-ordinance",
   "metadata": {},
   "source": [
    "<h3 style='color:green'>Exercise</h3> \n",
    "\n",
    "Suppose you invest $\\$500$ in an account that pays a compound interest of $5.75\\%$ p.a. How much will it be worth in $1.5$ years if the interest rate is \n",
    "1. compounded annually?\n",
    "2. compounded semiannually? \n",
    "3. compounded quarterly?\n",
    "4. compounded monthly?\n",
    "\n",
    "Write a function and reuse that function to answer the above question."
   ]
  },
  {
   "cell_type": "code",
   "execution_count": 37,
   "id": "micro-bedroom",
   "metadata": {},
   "outputs": [],
   "source": [
    "def get_future_value_comp(P, r, m, T):\n",
    "    \"\"\"\n",
    "    Input: principal P, interest rate r p.a. compounded m times a year, investment time period T in years\n",
    "    Returns the future value of a principal P invested for T years at an \n",
    "    interest rate r p.a. compounded m times a year\n",
    "    \"\"\"\n",
    "    return P * (1 + r/m)**(m*T)"
   ]
  },
  {
   "cell_type": "code",
   "execution_count": 39,
   "id": "northern-thanks",
   "metadata": {},
   "outputs": [
    {
     "data": {
      "text/plain": [
       "543.739105494308"
      ]
     },
     "execution_count": 39,
     "metadata": {},
     "output_type": "execute_result"
    }
   ],
   "source": [
    "P = 500\n",
    "r = 0.0575\n",
    "T = 1.5\n",
    "get_future_value_comp(P, r, 1, T)"
   ]
  },
  {
   "cell_type": "code",
   "execution_count": 40,
   "id": "hundred-adventure",
   "metadata": {},
   "outputs": [
    {
     "data": {
      "text/plain": [
       "544.3767255859376"
      ]
     },
     "execution_count": 40,
     "metadata": {},
     "output_type": "execute_result"
    }
   ],
   "source": [
    "get_future_value_comp(P, r, 2, T)"
   ]
  },
  {
   "cell_type": "code",
   "execution_count": 41,
   "id": "isolated-miller",
   "metadata": {},
   "outputs": [
    {
     "data": {
      "text/plain": [
       "544.7048313758173"
      ]
     },
     "execution_count": 41,
     "metadata": {},
     "output_type": "execute_result"
    }
   ],
   "source": [
    "get_future_value_comp(P, r, 4, T)"
   ]
  },
  {
   "cell_type": "code",
   "execution_count": 42,
   "id": "speaking-reward",
   "metadata": {},
   "outputs": [
    {
     "data": {
      "text/plain": [
       "544.9271497450427"
      ]
     },
     "execution_count": 42,
     "metadata": {},
     "output_type": "execute_result"
    }
   ],
   "source": [
    "get_future_value_comp(P, r, 12, T)"
   ]
  },
  {
   "cell_type": "code",
   "execution_count": null,
   "id": "static-beverage",
   "metadata": {},
   "outputs": [],
   "source": []
  }
 ],
 "metadata": {
  "kernelspec": {
   "display_name": "Python 3",
   "language": "python",
   "name": "python3"
  },
  "language_info": {
   "codemirror_mode": {
    "name": "ipython",
    "version": 3
   },
   "file_extension": ".py",
   "mimetype": "text/x-python",
   "name": "python",
   "nbconvert_exporter": "python",
   "pygments_lexer": "ipython3",
   "version": "3.8.2"
  }
 },
 "nbformat": 4,
 "nbformat_minor": 5
}
