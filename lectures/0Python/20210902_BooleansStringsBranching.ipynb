{
 "cells": [
  {
   "cell_type": "markdown",
   "id": "alpha-weather",
   "metadata": {},
   "source": [
    "# Python Lecture 2: On Booleans, Strings, and Branching\n",
    "\n",
    "### Lecture Notes by Jakov Ivan S. Dumbrique (jdumbrique@ateneo.edu)\n",
    "\n",
    "MATH 100.2: Topics in Financial Mathematics II \\\n",
    "First Semester, S.Y. 2021-2022 \\\n",
    "Ateneo de Manila University"
   ]
  },
  {
   "cell_type": "markdown",
   "id": "corresponding-least",
   "metadata": {},
   "source": [
    "Today, we will learn three topics in Python:\n",
    "\n",
    "0. Booleans\n",
    "1. Strings\n",
    "2. Branching"
   ]
  },
  {
   "cell_type": "markdown",
   "id": "permanent-nevada",
   "metadata": {},
   "source": [
    "## Section 0: Booleans"
   ]
  },
  {
   "cell_type": "code",
   "execution_count": 1,
   "id": "white-multimedia",
   "metadata": {},
   "outputs": [
    {
     "data": {
      "text/plain": [
       "True"
      ]
     },
     "execution_count": 1,
     "metadata": {},
     "output_type": "execute_result"
    }
   ],
   "source": [
    "# Boolean values are primitives (Note: the capitalization)\n",
    "True   # => True\n",
    "False  # => False\n",
    "\n",
    "# Logical operators\n",
    "# conjunction\n",
    "True and False # => False\n",
    "\n",
    "# disjunction\n",
    "True or False # => True\n",
    "\n",
    "# negation\n",
    "not True # => False\n",
    "\n",
    "# True and False have numerical values in Python\n",
    "True == 1\n",
    "False == 0"
   ]
  },
  {
   "cell_type": "markdown",
   "id": "prescribed-advertising",
   "metadata": {},
   "source": [
    "### NoneType"
   ]
  },
  {
   "cell_type": "code",
   "execution_count": 2,
   "id": "contained-street",
   "metadata": {},
   "outputs": [],
   "source": [
    "# None is an object\n",
    "None  # => None"
   ]
  },
  {
   "cell_type": "markdown",
   "id": "inside-check",
   "metadata": {},
   "source": [
    "## Section 1: Strings"
   ]
  },
  {
   "cell_type": "code",
   "execution_count": 3,
   "id": "amended-conditions",
   "metadata": {},
   "outputs": [
    {
     "data": {
      "text/plain": [
       "'Wake me up when September ends.'"
      ]
     },
     "execution_count": 3,
     "metadata": {},
     "output_type": "execute_result"
    }
   ],
   "source": [
    "# Strings are created with \" or '\n",
    "\"This is a string.\"\n",
    "'This is also a string.'\n",
    "\n",
    "# Strings can be added too\n",
    "\"Hello \" + \"world!\"  # => \"Hello world!\"\n",
    "\n",
    "# You can also format using f-strings or formatted string literals (in Python 3.6+)\n",
    "month = \"September\"\n",
    "f\"Wake me up when {month} ends.\" # => \"Wake me up when September ends.\""
   ]
  },
  {
   "cell_type": "markdown",
   "id": "electric-going",
   "metadata": {},
   "source": [
    "You can do a lot more with strings, such as indexing, slicing (refer to Section 3 on lists below)."
   ]
  },
  {
   "cell_type": "markdown",
   "id": "adapted-natural",
   "metadata": {},
   "source": [
    "### print() function"
   ]
  },
  {
   "cell_type": "code",
   "execution_count": 4,
   "id": "boring-walnut",
   "metadata": {},
   "outputs": [
    {
     "name": "stdout",
     "output_type": "stream",
     "text": [
      "Voter registration ends on September 30.\n",
      "Voter registration ends on September 30.\n",
      "VoterregistrationendsonSeptember30.\n",
      "Voter\n",
      "registration\n",
      "ends\n",
      "on\n",
      "September\n",
      "30.\n"
     ]
    }
   ],
   "source": [
    "print(\"Voter registration ends on September 30.\")\n",
    "print(\"Voter\", \"registration\", \"ends\", \"on\", \"September\", \"30.\")\n",
    "print(\"Voter\", \"registration\", \"ends\", \"on\", \"September\", \"30.\", sep=\"\")\n",
    "print(\"Voter\", \"registration\", \"ends\", \"on\", \"September\", \"30.\", sep=\"\\n\")"
   ]
  },
  {
   "cell_type": "markdown",
   "id": "eight-homework",
   "metadata": {},
   "source": [
    "## Section 2: Branching\n",
    "\n",
    "One way to include a flow of control in a program is through branching.\n",
    "A **conditional** is the simplest branching statement.\n",
    "\n",
    "### Three Forms of Conditionals:\n",
    "1. if statement\n",
    "2. if-else statement\n",
    "3. if-elif-else statement"
   ]
  },
  {
   "cell_type": "code",
   "execution_count": 5,
   "id": "ruled-viewer",
   "metadata": {},
   "outputs": [
    {
     "name": "stdout",
     "output_type": "stream",
     "text": [
      "1 is a positive number.\n"
     ]
    }
   ],
   "source": [
    "x = 1\n",
    "if x>0:\n",
    "    print(f\"{x} is a positive number.\")"
   ]
  },
  {
   "cell_type": "code",
   "execution_count": 6,
   "id": "stunning-leisure",
   "metadata": {},
   "outputs": [
    {
     "name": "stdout",
     "output_type": "stream",
     "text": [
      "-1 is not positive.\n"
     ]
    }
   ],
   "source": [
    "x = -1\n",
    "if x>0:\n",
    "    print(f\"{x} is a positive number.\")\n",
    "else:\n",
    "    print(f\"{x} is not positive.\")"
   ]
  },
  {
   "cell_type": "code",
   "execution_count": 7,
   "id": "inner-motel",
   "metadata": {},
   "outputs": [
    {
     "name": "stdout",
     "output_type": "stream",
     "text": [
      "0is neither positive nor negative.\n"
     ]
    }
   ],
   "source": [
    "x = 0\n",
    "if x >0:\n",
    "   print(f\"{x} is a positive number.\")\n",
    "elif x<0:\n",
    "    print(f\"{x} is a negative number.\")\n",
    "else:\n",
    "    print(f\"{x}is neither positive nor negative.\")"
   ]
  },
  {
   "cell_type": "markdown",
   "id": "leading-civilization",
   "metadata": {},
   "source": [
    "<h3 style='color:green'>Exercise</h3> \n",
    "\n",
    "Suppose you invest $\\$500$ in an account that pays an interest of $5.75\\%$ p.a. How much will it be worth in $1.5$ years if the interest rate is \n",
    "1. simple\n",
    "2. compounded semiannually? \n",
    "3. compounded quarterly?\n",
    "\n",
    "Write a single function and reuse that function to answer the above question."
   ]
  },
  {
   "cell_type": "code",
   "execution_count": 8,
   "id": "unauthorized-probe",
   "metadata": {},
   "outputs": [],
   "source": [
    "def get_future_value_simple(P, r, T):\n",
    "    \"\"\"\n",
    "    Input: principal P, simple interest rate r p.a., investment time period T in years\n",
    "    Returns the future value of a principal P invested for T years at a simple rate r\n",
    "    \"\"\"\n",
    "    return P * (1 + r*T)\n",
    "\n",
    "def get_future_value_comp(P, r, m, T):\n",
    "    \"\"\"\n",
    "    Input: principal P, interest rate r p.a. compounded m times a year, investment time period T in years\n",
    "    Returns the future value of a principal P invested for T years at an \n",
    "    interest rate r p.a. compounded m times a year\n",
    "    \"\"\"\n",
    "    return P * (1 + r/m)**(m*T)"
   ]
  },
  {
   "cell_type": "code",
   "execution_count": 9,
   "id": "eastern-index",
   "metadata": {},
   "outputs": [],
   "source": [
    "def get_future_value(P, r, T, type_interest, m=None):\n",
    "    \"\"\"\n",
    "    Input: principal P, interest rate r p.a., type of interest (whether simple or compounded m times a year), \n",
    "    and investment time period T in years\n",
    "    \n",
    "    Returns the future value of a principal P invested for T years at an \n",
    "    interest rate r p.a. (simple or compounded m times a year)\n",
    "    \"\"\"\n",
    "    if type_interest == 'simple':\n",
    "        A = P * (1 + r*T)\n",
    "    elif type_interest == 'comp':\n",
    "        A = P * (1 + r/m)**(m*T)\n",
    "    \n",
    "    return A"
   ]
  },
  {
   "cell_type": "code",
   "execution_count": 10,
   "id": "searching-sunrise",
   "metadata": {},
   "outputs": [
    {
     "data": {
      "text/plain": [
       "543.125"
      ]
     },
     "execution_count": 10,
     "metadata": {},
     "output_type": "execute_result"
    }
   ],
   "source": [
    "get_future_value(500, 0.0575, 1.5, 'simple')"
   ]
  },
  {
   "cell_type": "code",
   "execution_count": 11,
   "id": "dedicated-commons",
   "metadata": {},
   "outputs": [
    {
     "data": {
      "text/plain": [
       "544.3767255859376"
      ]
     },
     "execution_count": 11,
     "metadata": {},
     "output_type": "execute_result"
    }
   ],
   "source": [
    "get_future_value(500, 0.0575, 1.5, 'comp', m=2)"
   ]
  },
  {
   "cell_type": "code",
   "execution_count": 12,
   "id": "satellite-costume",
   "metadata": {},
   "outputs": [
    {
     "data": {
      "text/plain": [
       "544.7048313758173"
      ]
     },
     "execution_count": 12,
     "metadata": {},
     "output_type": "execute_result"
    }
   ],
   "source": [
    "get_future_value(500, 0.0575, 1.5, 'comp', m=4)"
   ]
  },
  {
   "cell_type": "code",
   "execution_count": null,
   "id": "related-shape",
   "metadata": {},
   "outputs": [],
   "source": []
  }
 ],
 "metadata": {
  "kernelspec": {
   "display_name": "Python 3",
   "language": "python",
   "name": "python3"
  },
  "language_info": {
   "codemirror_mode": {
    "name": "ipython",
    "version": 3
   },
   "file_extension": ".py",
   "mimetype": "text/x-python",
   "name": "python",
   "nbconvert_exporter": "python",
   "pygments_lexer": "ipython3",
   "version": "3.8.2"
  }
 },
 "nbformat": 4,
 "nbformat_minor": 5
}
