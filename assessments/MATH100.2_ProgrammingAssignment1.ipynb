{
 "cells": [
  {
   "cell_type": "markdown",
   "metadata": {},
   "source": [
    "# MATH 100.2 Programming Assignment 1\n",
    "\n",
    "## Version 1: September 8, 2021\n",
    "\n",
    "### Instructor: Jakov Ivan S. Dumbrique (jdumbrique@ateneo.edu)\n",
    "\n",
    "MATH 100.2: Topics in Financial Mathematics II \\\n",
    "First Semester, S.Y. 2021-2022 \\\n",
    "Ateneo de Manila University"
   ]
  },
  {
   "cell_type": "markdown",
   "metadata": {},
   "source": [
    "# Submission Mechanics\n",
    "\n",
    "1. Upload the complete Jupyter notebook to the appropriate submission bin in Canvas on or before <font color='red'>**September 30, 2021 (Thursday) 11:59 PM**</font>.\n",
    "2. Make sure that your notebook is organized, well-documented and clearly-annotated.\n",
    "3. Your notebook should show all the code required for Parts 1 and 2. The answers for Part 2 should be displayed in your Notebook. For questions requiring some analysis/explanation, write your answers in [markdown cells](https://www.tutorialspoint.com/jupyter/jupyter_notebook_markdown_cells.htm). \n",
    "4. The filename for your Jupyter notebook should follow this format: \\\n",
    "`math100_[section]_[lastname]_PA1.ipynb`\n",
    "5. Include comments (using the # symbol) in the body of your code so that it will be easier for the instructor to understand your code. For your helper functions, write a descriptive [docstring](https://www.programiz.com/python-programming/docstrings) similar to the ones below. \n",
    "6. Make sure to indicate in a markdown cell at the start of your notebook your name, as well as the names of the people you have asked help from and the online websites you have used in solving the problem. Here is an example:\n",
    "\n",
    "Submitted by: Jakov Ivan S. Dumbrique\n",
    "\n",
    "People I asked help from:\n",
    "\n",
    "1. Elon Musk\n",
    "2. Jeff Bezos\n",
    "3. Warren Buffett\n",
    "\n",
    "Websites I used for completing this PA:\n",
    "1. https://numpy.org/doc/stable/reference/generated/numpy.cov.html\n",
    "\n",
    "\n"
   ]
  },
  {
   "cell_type": "markdown",
   "metadata": {},
   "source": [
    "\n",
    "The Programming Assignment 1 has two parts:\n",
    "## Part 1\n",
    "In Part 1, you are tasked to create these functions:\n",
    "1. `undiversified_d_day_p_percent_VaR_delta_normal()`\n",
    "2. `diversified_d_day_p_percent_VaR_delta_normal()`\n",
    "\n",
    "The specifications of these functions are specified in the succeeding code blocks. You may create helper functions you can call for reusing computations."
   ]
  },
  {
   "cell_type": "code",
   "execution_count": 1,
   "metadata": {},
   "outputs": [],
   "source": [
    "def undiversified_d_day_p_percent_VaR_delta_normal(\n",
    "    df_lst, N_lst, d, p, \n",
    "    ewma_par_lst=None\n",
    "):\n",
    "    \"\"\"Returns the undiversified d-day p% VaR of a portfolio of stocks using Delta Normal Approach. \n",
    "    This function uses the N-day logarithmic returns in calculating N-day VaR. \n",
    "    \n",
    "    Parameters\n",
    "    ----------\n",
    "    df_lst : list of pandas.DataFrame\n",
    "        each df has two columns: (1) dt [str] and (2) closing price [float]\n",
    "        assumes the dates are arranged from newest to oldest, and the date today is the date on the first row\n",
    "        asssumes that all dfs have the same ordered list of dates\n",
    "        there is one df per stock in the portfolio\n",
    "    N_lst : list (of int)\n",
    "        N_i = number of shares for ith stock (order should be the same as the order in df_lst)\n",
    "    d : int\n",
    "        the value to be used in calculating the d-day VaR (e.g. 1-day, 5-day)\n",
    "    p : int\n",
    "        the value to be used in calculating the p% VaR (e.g. 99, 95)\n",
    "    ewma_par_lst : list (of float)\n",
    "        ewma_par_i = the value of the lambda parameter in an exponentially-weighted moving average model \n",
    "        for ith stock (order should be the same as the order in df_lst) \n",
    "        assumes the value is in range (0,1)\n",
    "        assumes there is no None value in the list\n",
    "    \n",
    "    Returns\n",
    "    -------\n",
    "    float (2 decimal places)\n",
    "        undiversified d-day p% VaR of a portfolio of stocks using Delta Normal Approach\n",
    "    \"\"\""
   ]
  },
  {
   "cell_type": "code",
   "execution_count": 2,
   "metadata": {},
   "outputs": [],
   "source": [
    "def diversified_d_day_p_percent_VaR_delta_normal(\n",
    "    df_lst, N_lst, d, p, \n",
    "    ewma_par_lst=None,\n",
    "    covar_ewma_par_mat=None\n",
    "):\n",
    "    \"\"\"Returns the diversified d-day p% VaR of a portfolio of stocks using Delta Normal Approach.\n",
    "     This function uses the N-day logarithmic returns in calculating N-day VaR.\n",
    "    \n",
    "    Parameters\n",
    "    ----------\n",
    "    df_lst : list of pandas.DataFrame\n",
    "        each df has two columns: (1) dt [str] and (2) closing price [float]\n",
    "        assumes the dates are arranged from newest to oldest, and the date today is the date on the first row\n",
    "        asssumes that all dfs have the same ordered list of dates\n",
    "        there is one df per stock in the portfolio\n",
    "    N_lst : list (of int)\n",
    "        N_i = number of shares for ith stock (order should be the same as the order in df_lst)\n",
    "    d : int\n",
    "        the value to be used in calculating the d-day VaR (e.g. 1-day, 5-day)\n",
    "    p : int\n",
    "        the value to be used in calculating the p% VaR (e.g. 99, 95)\n",
    "    ewma_par_lst : list (of float)\n",
    "        ewma_par_i = the value of the lambda parameter in an exponentially-weighted moving average model \n",
    "        for ith stock (order should be the same as the order in df_lst) \n",
    "        assumes the value is in range (0,1)\n",
    "        assumes there is no None value in the list\n",
    "    covar_ewma_par_mat : numpy.array\n",
    "        covar_ewma_par_mat[i, j] = the EWMA decay parameter for the covariance of the returns of asset i and j\n",
    "        this matrix only has value if EWMA will be used\n",
    "    \n",
    "    Returns\n",
    "    -------\n",
    "    float (2 decimal places)\n",
    "        diversified d-day p% VaR of a portfolio of stocks using Delta Normal Approach\n",
    "    \"\"\""
   ]
  },
  {
   "cell_type": "markdown",
   "metadata": {},
   "source": [
    "## Part 2\n",
    "In Part 2, you will be using the functions you created in Part 1 to answer the following questions. The stock price data for these items can be found in the `data` folder of our [class Github repository](https://github.com/ateneomathdept/math100.2_2021Sem1).\n",
    "\n",
    "Watch out for Part 2! For now, you may start working on Part 1."
   ]
  },
  {
   "cell_type": "code",
   "execution_count": null,
   "metadata": {},
   "outputs": [],
   "source": []
  }
 ],
 "metadata": {
  "kernelspec": {
   "display_name": "Python 3",
   "language": "python",
   "name": "python3"
  },
  "language_info": {
   "codemirror_mode": {
    "name": "ipython",
    "version": 3
   },
   "file_extension": ".py",
   "mimetype": "text/x-python",
   "name": "python",
   "nbconvert_exporter": "python",
   "pygments_lexer": "ipython3",
   "version": "3.8.2"
  }
 },
 "nbformat": 4,
 "nbformat_minor": 4
}
